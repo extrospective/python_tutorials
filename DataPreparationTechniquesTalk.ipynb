{
 "cells": [
  {
   "cell_type": "markdown",
   "metadata": {},
   "source": [
    "# Data Preparation Techniques for Data Science\n",
    "\n",
    "## Why Should You Care?\n",
    "\n",
    "* Automated data preparation might not make the best choices\n",
    "* Interesting opportunities to drive insights and business value\n",
    "\n",
    "\n",
    "<BR><BR><BR>\n",
    "<BR><BR><BR>\n",
    "    <BR><BR><BR>"
   ]
  },
  {
   "cell_type": "markdown",
   "metadata": {},
   "source": [
    "# Topics:\n",
    "\n",
    "* ## Categorical Variables\n",
    "* ## Imputation of Missing Data\n",
    "* ## Cyclical Variables as Predictors\n",
    "\n",
    "<BR><BR>\n",
    "*Opportunities* for us to improve analytics.\n",
    "<BR><BR><BR><BR><BR><BR>\n",
    "<BR><BR><BR>\n",
    "<hr>\n",
    "<hr>"
   ]
  },
  {
   "cell_type": "markdown",
   "metadata": {},
   "source": [
    "# Topic 1: Categorical Independent Variables\n",
    "\n",
    "\n",
    "  ### *Interval* Variable - Intervals between values correspond to real world differences\n",
    "  ### *Ordinal* Variable - Ordered, but distance not evenly spaced\n",
    "  ### *Categorical* Variable (aka Nominal) - Not ordered\n",
    "  ### *Dichotomous* Variable - Two Valued \n",
    "\n",
    "<BR><BR>\n",
    "\n",
    "<img src=\"img/categorical_division.png\" width=\"800\" height=\"500\">\n",
    "                    from https://towardsdatascience.com/all-about-categorical-variable-encoding-305f3361fd02\n",
    "\n",
    "<BR><BR><BR>\n",
    "\n",
    "* Automatic detection by learning systems:\n",
    "    * **Alphabetic** - system may guess these are categorical variables\n",
    "    * **Numeric** - system may guess these are interval variables.\n",
    "\n",
    "<BR><BR><BR>"
   ]
  },
  {
   "cell_type": "markdown",
   "metadata": {},
   "source": [
    "**Categorical** variables can be easily encoded in numbers:"
   ]
  },
  {
   "cell_type": "markdown",
   "metadata": {},
   "source": [
    "| Color | Encoding |\n",
    "| --- | :---: |\n",
    "| Red | 1 |\n",
    "| Green | 2 |\n",
    "| Blue | 3 |"
   ]
  },
  {
   "cell_type": "markdown",
   "metadata": {},
   "source": [
    "### If your data system treats these encodings as continuous variables:\n",
    "  * Problem 1: Implication that data is **ordered**\n",
    "  * Problem 2: Implication that data is **evenly spaced**\n",
    "  \n",
    "<BR><BR><BR><BR>"
   ]
  },
  {
   "cell_type": "markdown",
   "metadata": {},
   "source": [
    "## Classic Solutions: Encode values as separate variables (*one-hot encoding*)\n",
    "* N dummy variables. *N-1 dummy variables used for classic statistics.*\n",
    "* For large N: K dummy variables ( K << N ).  \n",
    "  * Kuhn & Johnson, *Applied Predictive Modeling*.\n",
    "\n",
    "<BR>   "
   ]
  },
  {
   "cell_type": "code",
   "execution_count": 14,
   "metadata": {},
   "outputs": [
    {
     "data": {
      "text/html": [
       "<table border=\"1\" class=\"dataframe\">\n",
       "  <thead>\n",
       "    <tr style=\"text-align: right;\">\n",
       "      <th></th>\n",
       "      <th>Embarked</th>\n",
       "    </tr>\n",
       "  </thead>\n",
       "  <tbody>\n",
       "    <tr>\n",
       "      <th>0</th>\n",
       "      <td>S</td>\n",
       "    </tr>\n",
       "    <tr>\n",
       "      <th>1</th>\n",
       "      <td>C</td>\n",
       "    </tr>\n",
       "    <tr>\n",
       "      <th>2</th>\n",
       "      <td>S</td>\n",
       "    </tr>\n",
       "    <tr>\n",
       "      <th>3</th>\n",
       "      <td>S</td>\n",
       "    </tr>\n",
       "    <tr>\n",
       "      <th>4</th>\n",
       "      <td>S</td>\n",
       "    </tr>\n",
       "    <tr>\n",
       "      <th>5</th>\n",
       "      <td>Q</td>\n",
       "    </tr>\n",
       "    <tr>\n",
       "      <th>6</th>\n",
       "      <td>S</td>\n",
       "    </tr>\n",
       "    <tr>\n",
       "      <th>7</th>\n",
       "      <td>S</td>\n",
       "    </tr>\n",
       "    <tr>\n",
       "      <th>8</th>\n",
       "      <td>S</td>\n",
       "    </tr>\n",
       "    <tr>\n",
       "      <th>9</th>\n",
       "      <td>C</td>\n",
       "    </tr>\n",
       "  </tbody>\n",
       "</table>"
      ],
      "text/plain": [
       "<IPython.core.display.HTML object>"
      ]
     },
     "metadata": {},
     "output_type": "display_data"
    },
    {
     "data": {
      "text/html": [
       "<table border=\"1\" class=\"dataframe\">\n",
       "  <thead>\n",
       "    <tr style=\"text-align: right;\">\n",
       "      <th></th>\n",
       "      <th>Embarked</th>\n",
       "      <th>Embarked_C</th>\n",
       "      <th>Embarked_Q</th>\n",
       "      <th>Embarked_S</th>\n",
       "    </tr>\n",
       "  </thead>\n",
       "  <tbody>\n",
       "    <tr>\n",
       "      <th>0</th>\n",
       "      <td>S</td>\n",
       "      <td>0</td>\n",
       "      <td>0</td>\n",
       "      <td>1</td>\n",
       "    </tr>\n",
       "    <tr>\n",
       "      <th>1</th>\n",
       "      <td>C</td>\n",
       "      <td>1</td>\n",
       "      <td>0</td>\n",
       "      <td>0</td>\n",
       "    </tr>\n",
       "    <tr>\n",
       "      <th>2</th>\n",
       "      <td>S</td>\n",
       "      <td>0</td>\n",
       "      <td>0</td>\n",
       "      <td>1</td>\n",
       "    </tr>\n",
       "    <tr>\n",
       "      <th>3</th>\n",
       "      <td>S</td>\n",
       "      <td>0</td>\n",
       "      <td>0</td>\n",
       "      <td>1</td>\n",
       "    </tr>\n",
       "    <tr>\n",
       "      <th>4</th>\n",
       "      <td>S</td>\n",
       "      <td>0</td>\n",
       "      <td>0</td>\n",
       "      <td>1</td>\n",
       "    </tr>\n",
       "    <tr>\n",
       "      <th>5</th>\n",
       "      <td>Q</td>\n",
       "      <td>0</td>\n",
       "      <td>1</td>\n",
       "      <td>0</td>\n",
       "    </tr>\n",
       "    <tr>\n",
       "      <th>6</th>\n",
       "      <td>S</td>\n",
       "      <td>0</td>\n",
       "      <td>0</td>\n",
       "      <td>1</td>\n",
       "    </tr>\n",
       "    <tr>\n",
       "      <th>7</th>\n",
       "      <td>S</td>\n",
       "      <td>0</td>\n",
       "      <td>0</td>\n",
       "      <td>1</td>\n",
       "    </tr>\n",
       "    <tr>\n",
       "      <th>8</th>\n",
       "      <td>S</td>\n",
       "      <td>0</td>\n",
       "      <td>0</td>\n",
       "      <td>1</td>\n",
       "    </tr>\n",
       "    <tr>\n",
       "      <th>9</th>\n",
       "      <td>C</td>\n",
       "      <td>1</td>\n",
       "      <td>0</td>\n",
       "      <td>0</td>\n",
       "    </tr>\n",
       "  </tbody>\n",
       "</table>"
      ],
      "text/plain": [
       "<IPython.core.display.HTML object>"
      ]
     },
     "metadata": {},
     "output_type": "display_data"
    }
   ],
   "source": [
    "import pandas as pd\n",
    "from IPython.display import display, HTML\n",
    "# Calls get_dummies and concatenates this to the data set\n",
    "train_df = pd.read_csv('data/titanic/train.csv')\n",
    "display(HTML(train_df[['Embarked']].head(10).to_html()))  # fancy syntax for pretty printing tables in jupyter\n",
    "train_df = pd.concat([train_df, pd.get_dummies(train_df.Embarked, prefix='Embarked')], axis=1)\n",
    "# note how new columns relate to the Embarked column\n",
    "sample_table = train_df[train_df.Embarked.isnull()==False].head(10)\n",
    "display(HTML(sample_table[['Embarked', 'Embarked_C', 'Embarked_Q', 'Embarked_S']].to_html()))  # fancy syntax for pretty printing tables in jupyter"
   ]
  },
  {
   "cell_type": "markdown",
   "metadata": {},
   "source": [
    "## High cardinality (large N) example\n",
    "\n",
    "### Four digit SIC codes -- most frequent is \"business services -- not elsewhere classified\"\n",
    "* 751 different labels in sample:\n",
    "* Half of the observations have one label (7389)\n",
    "* Many 20 labels have a single observation\n",
    "* Categorical dummies prone to *overfitting*\n",
    "<BR><BR>\n",
    "<img src=\"img/sic_4.png\" width=\"200\" height=\"500\">\n",
    "<BR><BR><BR><BR>\n",
    "    \n",
    "\n"
   ]
  },
  {
   "cell_type": "markdown",
   "metadata": {},
   "source": [
    "Take advantage of hierarchy in SIC codes known to us:\n",
    "    \n",
    "### Two digit SIC codes -- most frequent is business services\n",
    "* 84 different labels\n",
    "* More than half of the observations have one label (73)\n",
    "\n",
    "<BR>\n",
    "<img src=\"img/sic_2.png\" width=\"200\" height=\"500\">\n",
    "\n",
    "<BR><BR><BR>\n",
    "<BR><BR><BR>\n",
    "<BR><BR><BR>"
   ]
  },
  {
   "cell_type": "markdown",
   "metadata": {},
   "source": [
    "High cardinality categoricals present their own challenge.\n",
    "\n",
    "### Emerging Solution: **CatBoost** (Yandex 2017) -- https://tech.yandex.com/catboost/\n",
    "  * https://towardsdatascience.com/deep-dive-into-catboost-functionalities-for-model-interpretation-7cdef669aeed\n",
    "  * https://medium.com/whats-your-data/working-with-categorical-data-catboost-8b5e11267a37\n",
    "  * https://arxiv.org/pdf/1706.09516.pdf\n",
    "  * http://helios.mm.di.uoa.gr/~rouvas/ssi/sigkdd/sigkdd.vol3.1/barreca.pdf\n",
    "  * https://github.com/catboost/tutorials/blob/master/python_tutorial.ipynb\n",
    "  * https://towardsdatascience.com/catboost-vs-light-gbm-vs-xgboost-5f93620723db\n",
    "\n",
    "* Categorical variable analysis is intrinsic to the analysis\n",
    "  * CatBoost can create new features which are aggregates of multiple categorical variables\n",
    "  * CatBoost handles **high-cardinality** variables (many valued)\n",
    "* Note: **Do not one-hot encode** prior to processing\n",
    "* '*Categorical features are used to build new numeric features based on categorical features and their combinations.*'\n",
    "\n",
    "CatBoost has demonstrated ability to outperform other boosting algorithms (XGBoost) and is making inroads.\n",
    "\n",
    "<img src=\"img/CatBoostPipelineContrast.png\" width=\"800\" height=\"500\">\n",
    "<BR><BR><BR><BR>"
   ]
  },
  {
   "cell_type": "markdown",
   "metadata": {},
   "source": [
    "### Show CatBoost results\n",
    "\n",
    "<img src=\"img/catboost-learn.png\" width=\"1000\" height=\"600\">\n",
    "\n",
    "CatBoost is available in python, r, and from command line."
   ]
  },
  {
   "cell_type": "markdown",
   "metadata": {},
   "source": [
    "\n",
    "<BR>\n",
    "<BR>\n",
    "<BR>\n",
    "<BR>\n",
    "<BR>\n",
    "<BR>\n",
    "<BR>\n",
    "<BR>\n",
    "    "
   ]
  },
  {
   "cell_type": "markdown",
   "metadata": {},
   "source": [
    "<HR>"
   ]
  },
  {
   "cell_type": "markdown",
   "metadata": {},
   "source": [
    "\n",
    "<hr>\n",
    "<hr>"
   ]
  },
  {
   "cell_type": "markdown",
   "metadata": {},
   "source": [
    "## Topic 2: Missing Data "
   ]
  },
  {
   "cell_type": "markdown",
   "metadata": {},
   "source": [
    "### Scenario 1: Average Order Value\n",
    "\n",
    "You decide a good predictive variable is **Average Order Value for Prior Orders**.\n",
    "\n",
    "You believe that customers who spend have a history of higher order values will also have higher order values in the future.\n",
    "\n",
    "<img src=\"img/TimeToPurchase-AmountToSpend.png\" width=\"1000\" height=\"600\">\n",
    "\n",
    "Consider example Data:\n"
   ]
  },
  {
   "cell_type": "markdown",
   "metadata": {},
   "source": [
    "| Customer | Average Order Value ($) |\n",
    "| :-- | :--: |\n",
    "| Jones | 25 |\n",
    "| Smith | 32 |\n",
    "| Andersen | 54 |\n",
    "| Zelnick | 17 |\n",
    "| Henderson | 61 |\n",
    "| Lexie | 101 |\n",
    "| Alexander | 57 |\n",
    "| Burdman | 22 |\n",
    "| Blake | 18 |\n",
    "| Ma | 23 |\n",
    "| Thomas | . |\n",
    "\n",
    "### What do you do for Thomas since he has not placed an order?\n",
    "\n",
    "<BR><BR><BR><BR>"
   ]
  },
  {
   "cell_type": "markdown",
   "metadata": {},
   "source": [
    "### Scenario 2: Time since Event\n",
    "\n",
    "You decide a good predictive variable is **Time Since Event X**.\n",
    "\n",
    "Maybe event X is the last time product Y was purchased, and you have the following hypotheses:\n",
    "* Customers who just purchased Y will not need to purchase a Y for awhile.\n",
    "* Customers who have not purchased Y for a long period may be ready to purchase Y again soon.\n",
    "\n",
    "<BR>\n",
    "<BR>\n",
    "<img src=\"img/TimeToPurchase.png\" width=\"1200\" height=\"800\">\n",
    "<BR>\n",
    "<BR>\n",
    "    \n",
    "Consider example Data:\n"
   ]
  },
  {
   "cell_type": "markdown",
   "metadata": {},
   "source": [
    "| Customer | Time Since Last Purchase (Days) |\n",
    "| :-- | :--: |\n",
    "| Jones | 30 |\n",
    "| Smith | 90 |\n",
    "| Andersen | 360 |\n",
    "| Zelnick | 1254 |\n",
    "| Henderson | 2547 |\n",
    "| Lexie | 272 |\n",
    "| Alexander | 245 |\n",
    "| Burdman | 263 |\n",
    "| Blake | 281 |\n",
    "| Ma | 4124 |\n",
    "| Thomas | . |\n",
    "    "
   ]
  },
  {
   "cell_type": "markdown",
   "metadata": {},
   "source": [
    "    \n",
    "### What do you do for Thomas's Time Since Last Purchase?\n",
    "    \n",
    "<BR>\n",
    "<BR>\n",
    "<BR>\n",
    "<BR>\n",
    "<BR>\n",
    "<BR>\n",
    "<BR>"
   ]
  },
  {
   "cell_type": "markdown",
   "metadata": {},
   "source": [
    "## Solutions\n",
    "* Easy solutions:\n",
    "  * *Drop variables* which have missing observations\n",
    "  * *Drop observations* which have missing variables\n",
    "\n",
    "These only work when very few omissions occur in the matrix of observations and variables.\n",
    "\n",
    "### Dropping variables or observations reduces the quantity of data available for inferences.\n",
    "\n",
    "<BR>\n",
    "    <BR>\n",
    "Consider example data with a single missing value:\n"
   ]
  },
  {
   "cell_type": "markdown",
   "metadata": {},
   "source": [
    "| Var1 | Var2 | Var3 | Var4 | Var5 | Var6| Var7| Var8| Var9 |\n",
    "| :--: | :--:| :--:| :--:| :--:| :--:| :--:| :--:| :--: |\n",
    "| 25 | 3 | 15 | 4 | 17 | 6 | 8 | 3 |. |\n",
    "| 2 | 4 | 15 | 7 | 19 | 4 | 6 | 3 | 234 |\n",
    "| 25 | 3 | 2 | 4 | 17 | 2 | 6 | 3 | 23|\n",
    "| 24 | 4 | 3 | 3 | 25 | 1 | 6 | 3 |2 |\n",
    "| 3 | 4 | 1 | 5 | 25 | 6 | 8 | 3 |1 |\n",
    "| 23 | 3 | 15 | 45 | 23 | 5 | 6 | 3 |3 |\n",
    "| 2 | 4 | 15 | 7 | 19 | 2 | 55 | 3 | 234 |\n",
    "| 25 | 3 |5| 3 | 17 | 2 | 3 | 3 | 23|\n",
    "| 24 | 1 | 3 | 4 | 25 | 5 | 6 | 6 |2 |\n",
    "\n",
    "In this case, we could drop one observation to analyze data.\n",
    "\n",
    "\n",
    "<BR><BR><BR><BR><BR><BR><BR>\n",
    "But consider this example with missing variable scattered:\n",
    "\n"
   ]
  },
  {
   "cell_type": "markdown",
   "metadata": {},
   "source": [
    "| Var1 | Var2 | Var3 | Var4 | Var5 | Var6| Var7| Var8| Var9 |\n",
    "| :--: | :--:| :--:| :--:| :--:| :--:| :--:| :--:| :--: |\n",
    "| 25 | 3 | 15 | 4 | 17 | 6 | 8 | 3 |. |\n",
    "| 2 | 4 | 15 | 7 | 19 | 4 | 6 | 3 | 234 |\n",
    "| 25 | 3 | 2 | 4 | 17 | 2 | . | 3 | 23 |\n",
    "| 24 | 4 | 3 | 3 | . | 1 | 6 | 3 | 2 |\n",
    "| 3 | 4 | 1 | 5 | 25 | 6 | 8 | 3 | 1 |\n",
    "| 23 | 3 | 15 | .  | 23 | 5 | 6 | 3 |3 |\n",
    "| 2 | 4 | 15 | . | 19 | 2 | 55 | 3 | 234 |\n",
    "| 25 | 3 |5| 3 | 17 | 2 | 3 | 3 | 23|\n",
    "| 24 | 1 | 23 | 4 | 25 | 5 | 6 | 6 |2 |\n",
    "\n",
    "Cannot drop *observations* or *variables* in above example: ***We would lose half the observations or half the variables!***\n",
    "\n",
    "<BR>\n",
    "<BR>\n",
    "<BR>\n",
    "<BR>\n",
    "    "
   ]
  },
  {
   "cell_type": "markdown",
   "metadata": {},
   "source": [
    "\n",
    "### **Imputation**: replacing missing data with substituted values\n",
    "\n",
    "Weak techniques for substituting missing values:\n",
    "* Substitute **static** value for missing values\n",
    "\n",
    "Good techniques to substitute missing values:\n",
    "* Mean, median, mode (most frequent)\n",
    "* Other statistical calculation\n",
    "* Predict missing value from other data\n",
    "\n",
    "Techniques not discussed here:\n",
    "* Partition data set and create separate models for segments of data set\n",
    "\n",
    "<BR><BR>"
   ]
  },
  {
   "cell_type": "markdown",
   "metadata": {},
   "source": [
    "### Simple illustrations"
   ]
  },
  {
   "cell_type": "code",
   "execution_count": 1,
   "metadata": {},
   "outputs": [],
   "source": [
    "import numpy as np\n",
    "from sklearn.impute import SimpleImputer\n",
    "from sklearn.experimental import enable_iterative_imputer\n",
    "from sklearn.impute import IterativeImputer"
   ]
  },
  {
   "cell_type": "code",
   "execution_count": 2,
   "metadata": {},
   "outputs": [
    {
     "data": {
      "text/plain": [
       "array([[nan,  2.,  3.],\n",
       "       [ 4., nan,  6.],\n",
       "       [10., nan,  9.],\n",
       "       [ 4.,  3.,  6.]])"
      ]
     },
     "execution_count": 2,
     "metadata": {},
     "output_type": "execute_result"
    }
   ],
   "source": [
    "import numpy as np\n",
    "actual_data = np.array([[np.nan, 2, 3], [4, np.nan, 6], [10, np.nan, 9], [4, 3, 6]])\n",
    "actual_data"
   ]
  },
  {
   "cell_type": "markdown",
   "metadata": {},
   "source": [
    "### mean value -- the missing value in the upper left cell becomes a 6 \n",
    "* mean of 4, 4, 10 \n",
    "* (4+4+10)/3= 6."
   ]
  },
  {
   "cell_type": "code",
   "execution_count": 3,
   "metadata": {},
   "outputs": [
    {
     "name": "stdout",
     "output_type": "stream",
     "text": [
      "[[ 6.   2.   3. ]\n",
      " [ 4.   2.5  6. ]\n",
      " [10.   2.5  9. ]\n",
      " [ 4.   3.   6. ]]\n"
     ]
    },
    {
     "data": {
      "text/plain": [
       "numpy.ndarray"
      ]
     },
     "execution_count": 3,
     "metadata": {},
     "output_type": "execute_result"
    }
   ],
   "source": [
    "imp_mean = SimpleImputer(missing_values=np.nan, strategy='mean')\n",
    "imp_mean.fit(actual_data)\n",
    "print(imp_mean.transform(actual_data))\n",
    "type(imp_mean.transform(actual_data))"
   ]
  },
  {
   "cell_type": "markdown",
   "metadata": {},
   "source": [
    "### median value -- the missing value in the upper left cell becomes a 4\n",
    "* median of 4, 4, 10"
   ]
  },
  {
   "cell_type": "code",
   "execution_count": 4,
   "metadata": {},
   "outputs": [
    {
     "name": "stdout",
     "output_type": "stream",
     "text": [
      "[[ 4.   2.   3. ]\n",
      " [ 4.   2.5  6. ]\n",
      " [10.   2.5  9. ]\n",
      " [ 4.   3.   6. ]]\n"
     ]
    }
   ],
   "source": [
    "imp_mean = SimpleImputer(missing_values=np.nan, strategy='median')\n",
    "imp_mean.fit(actual_data)\n",
    "print(imp_mean.transform(actual_data))"
   ]
  },
  {
   "cell_type": "markdown",
   "metadata": {},
   "source": [
    "### (Experimental) sklearn IterativeImputer: simplifies imputation\n"
   ]
  },
  {
   "cell_type": "code",
   "execution_count": 5,
   "metadata": {},
   "outputs": [
    {
     "name": "stdout",
     "output_type": "stream",
     "text": [
      "Original:\n",
      "[[nan  2.  3.]\n",
      " [ 4. nan  6.]\n",
      " [10. nan  9.]\n",
      " [ 4.  3.  6.]]\n",
      "=========================\n",
      "BayesianRidge\n",
      "[[-1.9999017   2.          3.        ]\n",
      " [ 4.          2.999998    6.        ]\n",
      " [10.          4.00016125  9.        ]\n",
      " [ 4.          3.          6.        ]]\n",
      "-------------------------\n",
      "DecisionTree\n",
      "[[ 4.  2.  3.]\n",
      " [ 4.  3.  6.]\n",
      " [10.  3.  9.]\n",
      " [ 4.  3.  6.]]\n",
      "-------------------------\n",
      "ExtraTrees\n",
      "[[ 6.4  2.   3. ]\n",
      " [ 4.   3.   6. ]\n",
      " [10.   2.6  9. ]\n",
      " [ 4.   3.   6. ]]\n",
      "-------------------------\n",
      "KNearestNeighbors\n",
      "[[ 4.   2.   3. ]\n",
      " [ 4.   2.5  6. ]\n",
      " [10.   2.5  9. ]\n",
      " [ 4.   3.   6. ]]\n"
     ]
    }
   ],
   "source": [
    "from sklearn.linear_model import BayesianRidge\n",
    "print('Original:')\n",
    "print(actual_data)\n",
    "print('=========================')\n",
    "print('BayesianRidge')\n",
    "iterative_imp = IterativeImputer(random_state=0, estimator=BayesianRidge())\n",
    "iterative_imp.fit(actual_data)\n",
    "print(iterative_imp.transform(actual_data))\n",
    "print('-------------------------')                              \n",
    "print('DecisionTree')\n",
    "from sklearn.tree import DecisionTreeRegressor\n",
    "iterative_imp = IterativeImputer(random_state=0, estimator=DecisionTreeRegressor(max_features='sqrt', random_state=0))\n",
    "iterative_imp.fit(actual_data)\n",
    "print(iterative_imp.transform(actual_data))\n",
    "print('-------------------------')                              \n",
    "print('ExtraTrees')\n",
    "from sklearn.ensemble import ExtraTreesRegressor\n",
    "iterative_imp = IterativeImputer(random_state=0, estimator=ExtraTreesRegressor(n_estimators=10, random_state=0))\n",
    "iterative_imp.fit(actual_data)\n",
    "print(iterative_imp.transform(actual_data))\n",
    "print('-------------------------')   \n",
    "print('KNearestNeighbors')\n",
    "from sklearn.neighbors import KNeighborsRegressor\n",
    "iterative_imp = IterativeImputer(random_state=0, estimator=KNeighborsRegressor(n_neighbors=2))\n",
    "iterative_imp.fit(actual_data)\n",
    "print(iterative_imp.transform(actual_data))\n"
   ]
  },
  {
   "cell_type": "markdown",
   "metadata": {},
   "source": [
    "### Imputed values ranged from -2 to +6.4"
   ]
  },
  {
   "cell_type": "markdown",
   "metadata": {},
   "source": [
    "<BR><BR><BR><BR>\n",
    "<HR>"
   ]
  },
  {
   "cell_type": "markdown",
   "metadata": {},
   "source": [
    "## Missing Data in Summary Statistics: Not Just Missing Cells\n"
   ]
  },
  {
   "cell_type": "markdown",
   "metadata": {},
   "source": [
    "### Scenario 1: Average Order Value\n",
    "\n",
    "<img src=\"img/SummaryStatisticBias.png\" width=\"600\" height=\"700\">\n",
    "\n",
    "\n",
    "<BR><BR><BR><BR><BR><BR>\n",
    "\n",
    "### Consider: Customer C has never purchased.  How do you compare customer C's AOV to customers A and B?\n",
    "    \n",
    "    \n",
    "    \n",
    "<BR><BR><BR><BR>\n",
    "<BR><BR><BR><BR>\n",
    "<BR><BR><BR><BR>\n",
    "<BR><BR><BR><BR>\n",
    "    \n",
    "    \n",
    "    \n",
    "<BR>\n",
    "<BR>\n",
    "<BR>\n",
    "<BR>\n",
    "<BR>\n",
    "\n",
    "    "
   ]
  },
  {
   "cell_type": "markdown",
   "metadata": {},
   "source": [
    "### Average is a Statistic -- the Statistic is an **Estimator** for a Population\n"
   ]
  },
  {
   "cell_type": "markdown",
   "metadata": {},
   "source": [
    "Customer C: For an unknown customer, you could use the Average Order Value for all Customers (\\$40)\n",
    "\n",
    "Customer A: We confidently place population AOV at \\$50\n",
    "\n",
    "Customer B: We should combine our **prior** estimate of \\$40 USD with **new information** (sample of \\$60)\n",
    "\n"
   ]
  },
  {
   "cell_type": "code",
   "execution_count": 6,
   "metadata": {
    "jupyter": {
     "source_hidden": true
    }
   },
   "outputs": [
    {
     "data": {
      "image/png": "[encoded data removed]",
      "text/plain": [
       "<Figure size 864x504 with 1 Axes>"
      ]
     },
     "metadata": {
      "needs_background": "light"
     },
     "output_type": "display_data"
    }
   ],
   "source": [
    "%matplotlib inline\n",
    "import matplotlib.pyplot as plt\n",
    "import scipy.stats\n",
    "import numpy as np\n",
    "\n",
    "def draw_norm_plot():\n",
    "    x_min = 0.0\n",
    "    x_max = 80.0\n",
    "    mean = 40.0 \n",
    "    std = 12.0\n",
    "    x = np.linspace(x_min, x_max, 100)\n",
    "    y = scipy.stats.norm.pdf(x,mean,std)\n",
    "    plt.plot(x,y, color='coral')\n",
    "    plt.arrow(60, 0.038, 0, -.0264, head_width=1, head_length=.0025)\n",
    "    plt.text(58, 0.039, 'B: 1 sample')\n",
    "    plt.arrow(40, 0.04, 0, -.0035, head_width=1, head_length=.0025)\n",
    "    plt.text(38.5, 0.041, 'B: Mean')\n",
    "\n",
    "    mean = 50.0 \n",
    "    std = 12.0\n",
    "    x = np.linspace(x_min, x_max, 100)\n",
    "    y = scipy.stats.norm.pdf(x,mean,std)\n",
    "    plt.plot(x,y, color='blue')\n",
    "    plt.arrow(50, 0.040, 0, -.0035, head_width=1, head_length=.0025)\n",
    "    plt.text(48.5, 0.041, 'A: Mean (many samples)')\n",
    "    \n",
    "    plt.text(2.5, 0.047, 'The one sample of B is not best estimator of Bs population AOV (orange curve).')\n",
    "    plt.xlim(x_min,x_max)\n",
    "    plt.ylim(0,0.05)\n",
    "    plt.title('Customer AOV Sampling: Single Sample from Customer Lifetime',fontsize=20)\n",
    "    plt.xlabel('AOV')\n",
    "    fig = plt.gcf()\n",
    "    fig.set_size_inches(12, 7)\n",
    "\n",
    "draw_norm_plot()\n",
    "plt.show()"
   ]
  },
  {
   "cell_type": "markdown",
   "metadata": {},
   "source": [
    "<BR><BR><BR>\n",
    "\n",
    "### Shrinkage\n",
    "\n",
    "You can use a statistical model to create a new variable, the customers EAOV (Estimated Average Order Value).\n",
    "\n",
    "$AOV_{i} = \\lambda_{i} * AOVSample_{i} + 1 - \\lambda_{i} * AOVMean$\n",
    "\n",
    "* For customer *A* the EAOV would be \\$50.\n",
    "* For customer *B* would be a weighted average of 60 and 40 dollars.  \n",
    "* For customer *C* the EAOV would be \\$40.\n",
    "\n",
    "The estimator for B's AOV is closer to the overall mean than the sample, an application of *shrinkage*.\n",
    "    \n",
    "\n",
    "\n"
   ]
  },
  {
   "cell_type": "code",
   "execution_count": 7,
   "metadata": {
    "jupyter": {
     "source_hidden": true
    }
   },
   "outputs": [
    {
     "name": "stdout",
     "output_type": "stream",
     "text": [
      "Estimated AOV is $ 43.0\n"
     ]
    },
    {
     "data": {
      "image/png": "[encoded data removed]",
      "text/plain": [
       "<Figure size 864x504 with 1 Axes>"
      ]
     },
     "metadata": {
      "needs_background": "light"
     },
     "output_type": "display_data"
    }
   ],
   "source": [
    "alambda = 0.3\n",
    "aov_b = alambda * 50 + (1-alambda) * 40\n",
    "print(f'Estimated AOV is $ {aov_b}')\n",
    "\n",
    "plt.arrow(aov_b, 0.043, 0, -.0065, head_width=1, head_length=.0025)\n",
    "plt.text(aov_b-4, 0.044, 'B: Estimated AOV', color='xkcd:red')\n",
    "\n",
    "draw_norm_plot()\n",
    "plt.show()"
   ]
  },
  {
   "cell_type": "markdown",
   "metadata": {},
   "source": [
    "Warning: **A business which chases small samples will follow *outliers* (and then be disappointed).**\n"
   ]
  },
  {
   "cell_type": "markdown",
   "metadata": {},
   "source": [
    "<BR><BR>\n",
    "<BR><BR>\n",
    "<BR><BR>\n",
    "<BR><BR>\n",
    "<HR>"
   ]
  },
  {
   "cell_type": "markdown",
   "metadata": {},
   "source": [
    "### Scenario 2: Time Since Last Purchase\n",
    "\n",
    "<img src=\"img/DurationSinceLastPurchase.png\" width=\"600\" height=\"700\">\n",
    "\n",
    "* **Mean** time since last purchase is 28 months.\n",
    "* **Modal** (most frequent) time since last purchase is 0 months\n",
    "\n",
    "What options would make sense for the customer with no purchase history?\n",
    "\n",
    "<BR>\n",
    "<BR>\n",
    "<BR>\n",
    "<BR>\n",
    "<BR>\n",
    "<BR>\n",
    "<BR>\n",
    "<BR>\n",
    "<BR>\n",
    "<BR> \n",
    "Take-away: One needs to think about this issue before automated imputation.\n",
    "<BR>\n",
    "<BR>\n",
    "<BR>\n",
    "<BR>\n",
    "<BR>\n",
    "<BR>\n"
   ]
  },
  {
   "cell_type": "markdown",
   "metadata": {},
   "source": [
    "\n",
    "<BR>\n",
    "<HR>"
   ]
  },
  {
   "cell_type": "markdown",
   "metadata": {},
   "source": [
    "# Topic 3: How to Use Cyclical Variables as Predictors\n",
    "\n",
    "Scenario 1: **Time of Year** is a Predictive Variable for Likelihood of Ordering\n",
    "\n",
    "\n",
    "<img src=\"img/TimeToPurchase-Month Relationships.png\" width=\"1200\" height=\"800\">\n",
    "\n",
    "\n",
    "Scenario 2: **Time of day** is also an example of a cyclical variable\n",
    "\n",
    "<BR><BR><BR><BR>\n",
    "\n",
    "    \n",
    "\n",
    "## Problematic: Encode month of year as an integer variable\n",
    "\n",
    "* Treating months as ordinal does not recognize cycle: smallest and largest values are adjacent\n",
    "* Certain models (such as OLS) will not capture this non-linear relationship\n",
    "    \n",
    "<BR><BR>\n",
    "\n",
    "    \n",
    "    \n",
    "    \n",
    "    \n",
    "## Typical Next Answer: Encode months categorically\n",
    "* **Loses adjacency** between months\n",
    "* Risks overfitting and requires more data to derive relationships. \n",
    "* Months (or quarters) themselves are buckets with arbitrary values\n",
    "<BR><BR><BR><BR><BR><BR>"
   ]
  },
  {
   "cell_type": "markdown",
   "metadata": {},
   "source": [
    "# Suggested Technique: Take cos/sin of portion of % of year\n",
    "\n",
    "* Example: divide year into units (could be months, weeks, or days)\n",
    "\n",
    "<img src=\"img/unit_circle.png\" width=\"500\" height=\"500\">\n"
   ]
  },
  {
   "cell_type": "code",
   "execution_count": 7,
   "metadata": {
    "jupyter": {
     "source_hidden": true
    }
   },
   "outputs": [
    {
     "name": "stdout",
     "output_type": "stream",
     "text": [
      "Jan 11: sin 0.19, cos 0.98\n",
      "Sep 11: sin -0.94, cos -0.33\n",
      "Oct 11: sin -0.98, cos 0.18\n"
     ]
    }
   ],
   "source": [
    "import numpy as np\n",
    "for dname, dnum in (['Jan 11', 11], ['Sep 11', 254], ['Oct 11', 284]):\n",
    "    temp = 2 * np.pi * dnum / 365.0\n",
    "    print(f'{dname}: sin {np.round(np.sin(temp), 2)}, cos {np.round(np.cos(temp), 2)}')"
   ]
  },
  {
   "cell_type": "code",
   "execution_count": 27,
   "metadata": {
    "jupyter": {
     "source_hidden": true
    }
   },
   "outputs": [
    {
     "data": {
      "image/png": "[encoded data removed]",
      "text/plain": [
       "<Figure size 720x720 with 1 Axes>"
      ]
     },
     "metadata": {
      "needs_background": "light"
     },
     "output_type": "display_data"
    }
   ],
   "source": [
    "%matplotlib inline\n",
    "import pandas as pd\n",
    "np.random.seed(42)\n",
    "rand_days = np.append(np.random.randint(0, 365, 25), [11, 254, 284])\n",
    "# print(rand_days)\n",
    "df=pd.DataFrame(rand_days, columns=['day_num'])\n",
    "df['sin_of_date'] = np.sin(2*np.pi*df.day_num/365)\n",
    "df['cos_of_date'] = np.cos(2*np.pi*df.day_num/365)\n",
    "plt = df.plot.scatter('sin_of_date','cos_of_date', figsize=(10, 10))\n",
    "plt.set_title('Dates Distributed Across Two Variables')\n",
    "for dname, dnum in (['Jan 11', 11], ['Sep 11', 254], ['Oct 11', 284]):\n",
    "    _ = plt.text(df[df.day_num==dnum].sin_of_date.values[0]+.02, df[df.day_num==dnum].cos_of_date.values[0], dname)\n",
    "_ = plt.arrow(0.1, 0.9, 0.08, -.04, head_width=0.02, head_length=.025)\n",
    "_ = plt.text (-1, 1, 'Temperature related to cos(date)')\n",
    "_ = plt.text (-1, -1, 'Half year related to sin(date)')"
   ]
  },
  {
   "cell_type": "markdown",
   "metadata": {},
   "source": [
    "# Wrap Up\n",
    "\n",
    "<BR><BR>\n",
    "<BR><BR>\n",
    "<BR><BR>\n",
    "    \n",
    "\n"
   ]
  },
  {
   "cell_type": "markdown",
   "metadata": {},
   "source": [
    "    \n",
    "## We looked at three aspects of data:\n",
    "    \n",
    "* ### Categorical Variables\n",
    "* ### Imputation of Missing Data\n",
    "* ### Cyclical Data as Predictive Variables\n",
    "\n",
    "<BR><BR><BR>\n",
    "    \n",
    "## Each case has relevant techniques which can let you drive more mileage from your data.\n",
    "<BR>\n",
    "<BR><BR><BR>\n",
    "<BR><BR><BR>\n",
    "    \n"
   ]
  },
  {
   "cell_type": "markdown",
   "metadata": {},
   "source": [
    "### The hands on python workshop will give provide an opportunity to work with modules which support these activities."
   ]
  },
  {
   "cell_type": "code",
   "execution_count": null,
   "metadata": {},
   "outputs": [],
   "source": []
  }
 ],
 "metadata": {
  "kernelspec": {
   "display_name": "Python 3",
   "language": "python",
   "name": "python3"
  },
  "language_info": {
   "codemirror_mode": {
    "name": "ipython",
    "version": 3
   },
   "file_extension": ".py",
   "mimetype": "text/x-python",
   "name": "python",
   "nbconvert_exporter": "python",
   "pygments_lexer": "ipython3",
   "version": "3.7.3"
  }
 },
 "nbformat": 4,
 "nbformat_minor": 4
}
