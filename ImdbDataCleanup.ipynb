{
 "cells": [
  {
   "cell_type": "markdown",
   "metadata": {},
   "source": [
    "### import statements\n",
    "\n",
    "Typically top of every module has import statements for important modules\n",
    "\n",
    "* import os: import the os module\n",
    "* import pandas as pd: import the pandas module but call it \"pd\" (conventional shorthand for pandas) for readable code."
   ]
  },
  {
   "cell_type": "code",
   "execution_count": 1,
   "metadata": {},
   "outputs": [],
   "source": [
    "import os\n",
    "import pandas as pd"
   ]
  },
  {
   "cell_type": "markdown",
   "metadata": {},
   "source": [
    "### read_csv (or read_excel)\n",
    "\n",
    "Functions to read a file into a pandas DataFrame.\n",
    "\n",
    "* A DataFrame is like a table, with varying types.\n",
    "* Each column of a pandas DataFrame is effectively a pandas Series.\n",
    "* The DataFrame info() command provides names, types and counts for columns.  When NULLs are encountered the count will be less than the size of the DataFrame."
   ]
  },
  {
   "cell_type": "code",
   "execution_count": 2,
   "metadata": {},
   "outputs": [
    {
     "name": "stdout",
     "output_type": "stream",
     "text": [
      "<class 'pandas.core.frame.DataFrame'>\n",
      "RangeIndex: 5723534 entries, 0 to 5723533\n",
      "Data columns (total 9 columns):\n",
      "tconst            object\n",
      "titleType         object\n",
      "primaryTitle      object\n",
      "originalTitle     object\n",
      "isAdult           int64\n",
      "startYear         object\n",
      "endYear           object\n",
      "runtimeMinutes    object\n",
      "genres            object\n",
      "dtypes: int64(1), object(8)\n",
      "memory usage: 393.0+ MB\n"
     ]
    }
   ],
   "source": [
    "filename = \"data.tsv\"\n",
    "imdb_df = pd.read_csv(filename, sep='\\t')  \n",
    "imdb_df.info()"
   ]
  },
  {
   "cell_type": "code",
   "execution_count": 9,
   "metadata": {},
   "outputs": [],
   "source": [
    "reduced_df = imdb_df[imdb_df.startYear != '\\\\N'].copy()\n"
   ]
  },
  {
   "cell_type": "code",
   "execution_count": 11,
   "metadata": {},
   "outputs": [
    {
     "name": "stdout",
     "output_type": "stream",
     "text": [
      "<class 'pandas.core.frame.DataFrame'>\n",
      "Int64Index: 4312405 entries, 15495 to 5723533\n",
      "Data columns (total 10 columns):\n",
      "tconst            object\n",
      "titleType         object\n",
      "primaryTitle      object\n",
      "originalTitle     object\n",
      "isAdult           int64\n",
      "startYear         object\n",
      "endYear           object\n",
      "runtimeMinutes    object\n",
      "genres            object\n",
      "startYearInt      int64\n",
      "dtypes: int64(2), object(8)\n",
      "memory usage: 361.9+ MB\n"
     ]
    }
   ],
   "source": [
    "reduced_df['startYearInt'] = reduced_df.startYear.astype('int')\n",
    "reduced_df = reduced_df[reduced_df.startYearInt>1990]\n",
    "reduced_df.info()"
   ]
  },
  {
   "cell_type": "code",
   "execution_count": 12,
   "metadata": {},
   "outputs": [
    {
     "name": "stdout",
     "output_type": "stream",
     "text": [
      "<class 'pandas.core.frame.DataFrame'>\n",
      "Int64Index: 4312405 entries, 15495 to 5723533\n",
      "Data columns (total 4 columns):\n",
      "primaryTitle    object\n",
      "isAdult         int64\n",
      "startYear       object\n",
      "genres          object\n",
      "dtypes: int64(1), object(3)\n",
      "memory usage: 164.5+ MB\n"
     ]
    }
   ],
   "source": [
    "reduced_df = reduced_df[['primaryTitle','isAdult','startYear','genres']]\n",
    "reduced_df.info()"
   ]
  },
  {
   "cell_type": "code",
   "execution_count": 13,
   "metadata": {},
   "outputs": [],
   "source": [
    "reduced_df.to_csv('imdb_titles_reduced.csv')"
   ]
  },
  {
   "cell_type": "markdown",
   "metadata": {},
   "source": [
    "### describe()\n",
    "\n",
    "describe() can be called on a particular column of a DataFrame (a Series) to find out min, max, median, etc."
   ]
  },
  {
   "cell_type": "code",
   "execution_count": null,
   "metadata": {},
   "outputs": [],
   "source": [
    "dramacom_df = dramacom_df[dramacom_df.StartYearInt >= 2000]"
   ]
  },
  {
   "cell_type": "code",
   "execution_count": null,
   "metadata": {},
   "outputs": [],
   "source": [
    "dramacom_df[dramacom_df.StartYearInt >= 2115]"
   ]
  },
  {
   "cell_type": "code",
   "execution_count": null,
   "metadata": {},
   "outputs": [],
   "source": [
    "dramacom_df = dramacom_df[dramacom_df.StartYearInt <2020]\n",
    "dramacom_df.StartYearInt.value_counts()"
   ]
  },
  {
   "cell_type": "code",
   "execution_count": null,
   "metadata": {},
   "outputs": [],
   "source": [
    "pd.crosstab(dramacom_df.genres, dramacom_df.StartYearInt)"
   ]
  },
  {
   "cell_type": "code",
   "execution_count": null,
   "metadata": {},
   "outputs": [],
   "source": [
    "pd.crosstab(dramacom_df.genres, dramacom_df.IsAdult)"
   ]
  },
  {
   "cell_type": "code",
   "execution_count": null,
   "metadata": {},
   "outputs": [],
   "source": [
    "%matplotlib inline\n",
    "import matplotlib.pyplot as plt"
   ]
  },
  {
   "cell_type": "code",
   "execution_count": null,
   "metadata": {},
   "outputs": [],
   "source": [
    "pdata = pd.crosstab(dramacom_df.genres, dramacom_df.StartYearInt)\n",
    "type(pdata)"
   ]
  },
  {
   "cell_type": "code",
   "execution_count": null,
   "metadata": {},
   "outputs": [],
   "source": [
    "pdata.info()"
   ]
  },
  {
   "cell_type": "code",
   "execution_count": null,
   "metadata": {},
   "outputs": [],
   "source": [
    "pdata = pd.crosstab(dramacom_df.StartYearInt, dramacom_df.genres)\n",
    "pdata.info()"
   ]
  },
  {
   "cell_type": "code",
   "execution_count": null,
   "metadata": {},
   "outputs": [],
   "source": [
    "pdata.plot.line()"
   ]
  }
 ],
 "metadata": {
  "kernelspec": {
   "display_name": "Python 3",
   "language": "python",
   "name": "python3"
  },
  "language_info": {
   "codemirror_mode": {
    "name": "ipython",
    "version": 3
   },
   "file_extension": ".py",
   "mimetype": "text/x-python",
   "name": "python",
   "nbconvert_exporter": "python",
   "pygments_lexer": "ipython3",
   "version": "3.7.2"
  }
 },
 "nbformat": 4,
 "nbformat_minor": 2
}
