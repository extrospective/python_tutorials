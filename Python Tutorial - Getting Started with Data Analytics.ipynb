{
 "cells": [
  {
   "cell_type": "markdown",
   "metadata": {},
   "source": [
    "# Python Tutorial - Getting Started with Data Analytics\n",
    "\n",
    "* Mark Andersen\n",
    "* Elizavet Fakou\n",
    "\n",
    "July 2019\n",
    "\n",
    "## Goals\n",
    "\n",
    "* Introduce use of pandas with python\n",
    "* Get comfortable with Jupyter notebooks\n",
    "* Hands on workshop which does not require prior python training\n",
    "\n",
    "\n",
    "This particular session \"dives right in\".  Another session (Python Data Structures with Pandas) makes a more paced introduction to functions, lists and other parts of the python language.  \n",
    "\n",
    "\n",
    "## Prerequisites: \n",
    "*  Anaconda for Python 3.7 (https://bit.ly/2IaPVPb)\n",
    "*  Data: download the file imdb_titles_reduced.csv (http://bit.ly/2Df11i6) in the same directory as this .ipynb file.\n",
    "\n"
   ]
  },
  {
   "cell_type": "markdown",
   "metadata": {},
   "source": [
    "## Why Jupyter Notebooks?\n",
    "\n",
    "### Environment Options for Python Programming\n",
    "\n",
    "* Command line\n",
    "* Integrated Development Environment (IDE) - Spyder\n",
    "* Notebooks - Jupyter Notebook, Jupyter Lab.  Use the one more comfortable to you:\n",
    "  * Jupyter Notebook has been around for some time and has one tab per notebook in your browser\n",
    "  * Jupyter Lab is an updated version and has one tab containing all notebooks and tabs within the browser tab.\n",
    "\n",
    "Data scientists primarily use notebooks because the code and its output are kept together.  This allows others to review your lab notebook and its output rather than having to re-run your code to see its output.  Because other people may not have the time or data to re-run, they can review the output alongside the code which generates it.  This pairing practices accelerates learning and code review.\n",
    "\n",
    "### How does Jupyter Notebook / Jupyter Lab work?\n",
    "\n",
    "When you start the Jupyter environment it can run muliple interactive python notebooks (.ipynb).  When each is started it will have its own python session running behind it.  You restart a notebook's python session by \"restarting the kernel\".\n",
    "\n",
    "#### Notebooks are more like SQL Management Studio than other Development Environments\n",
    "\n",
    "With a notebook, the user should be aware of the order in which the cells (groups of commands) have been run:\n",
    "* Notebooks build up state (variables) as you run cells.\n",
    "* Notebooks have no direct sense of the order of cells.  The state (variables) depend on the order in which *you* run the cells in the notebook.\n",
    "* Jupyter Notebook lets you run cells in order.  That is up to you.  \n",
    "* If you do not run a cell, then the code has not executed yet!\n",
    "\n",
    "Therefore:\n",
    "* If you run cells out of order you might get different results\n",
    "\n",
    "If you are confused about python state as you work through a Notebook, you have a remedy:\n",
    "* Use the menu option *Kernel - Restart* to restart the entire python process, wiping out all variables, and giving you a fresh start.\n",
    "\n",
    "#### Markdown Cells\n",
    "\n",
    "There are multiple cell types, and you will edit code cells in this tutorial.\n",
    "\n",
    "The comments you encounter between code cells are *markdown* cells (see drop down top center for type).  Markdown cells can also be highlighted to \"run\".  When you run a markdown cell it interprets the markdown, replacing it with the resulting output.  You can double click on a markdown cell to edit it, and then hit the Run button to convert back to markdown output.\n",
    "\n",
    "### Exercise: Double click on this cell -- this text -- right now to see the markdown source and then click the \"Run\" button to put it back as markdown output. "
   ]
  },
  {
   "cell_type": "markdown",
   "metadata": {},
   "source": [
    "<hr>"
   ]
  },
  {
   "cell_type": "markdown",
   "metadata": {},
   "source": [
    "### python: import statements\n",
    "\n",
    "Typically top of every module has import statements for important modules\n",
    "\n",
    "* import os: import the os module (operating system functions)\n",
    "* import pandas as pd: import the pandas module but call it \"pd\" (conventional shorthand for pandas) for readable code."
   ]
  },
  {
   "cell_type": "code",
   "execution_count": 1,
   "metadata": {},
   "outputs": [],
   "source": [
    "#\n",
    "# Typical first lines of a python program are import statements:\n",
    "#\n",
    "import os\n",
    "import pandas as pd\n",
    "\n",
    "# Click \"Run\" on this cell to do the imports"
   ]
  },
  {
   "cell_type": "markdown",
   "metadata": {},
   "source": [
    "### pandas: read_csv (or read_excel)\n",
    "\n",
    "We are diving right into pandas, the most important module for data analysts in python.\n",
    "\n",
    "Functions in python are invoked with ().  Parameters are passed in the parentheses.\n",
    "\n",
    "read_csv (or read_excel) are pandas functions which create a DataFrame from a comma separated variable (csv) file (or excel file).\n",
    "* pd.read_csv(filename): calls read_csv in the module pandas (pd) and passes in a single parameter specifying the filename\n",
    "\n",
    "A DataFrame is the core data structure found in pandas:\n",
    "\n",
    "* A *DataFrame* is like a SQL table, with varying types for its columns.\n",
    "* Each column of a pandas DataFrame is a pandas *Series*.\n",
    "* The DataFrame *info()* command provides names, types and counts for columns. \n",
    "  * Note about counts: the count adds up non-NULL records, so when a column has NULLs the count will be reduced.\n",
    "\n",
    "***info()*** is the most common command for getting information about a data frame.\n",
    "* imdb_df.info(): calls the info() function with no parameters (empty parentheses) on the object imdb_df. \n",
    "  * Note about notation: A function may be called on an object, in this case the imdb_df DataFrame object.  \n"
   ]
  },
  {
   "cell_type": "code",
   "execution_count": 2,
   "metadata": {},
   "outputs": [
    {
     "name": "stdout",
     "output_type": "stream",
     "text": [
      "<class 'pandas.core.frame.DataFrame'>\n",
      "RangeIndex: 4312405 entries, 0 to 4312404\n",
      "Data columns (total 4 columns):\n",
      "primaryTitle    object\n",
      "isAdult         int64\n",
      "startYear       int64\n",
      "genres          object\n",
      "dtypes: int64(2), object(2)\n",
      "memory usage: 131.6+ MB\n"
     ]
    }
   ],
   "source": [
    "# Run this code\n",
    "#\n",
    "# This code assumes you have placed the file in the same directory that this\n",
    "# .ipynb file is running in. If you place it elsewhere you will need to include the path\n",
    "# and on windows you need to double your backslashes for path.\n",
    "#\n",
    "# i.e.  e:\\\\temp\\\\imdb_titles_reduced.csv \n",
    "#\n",
    "\n",
    "#\n",
    "# filename is a *variable* we create here and assign a string representing the filename:\n",
    "filename = \"imdb_titles_reduced.csv\"\n",
    "\n",
    "# imdb_df is another variable.  It is assigned the result of making the function call on the right side\n",
    "# The pd prefix refers to the pandas module imported above.\n",
    "# The read_csv function exists in the pandas module and requires a filename for the csv file to read:\n",
    "imdb_df = pd.read_csv(filename)  \n",
    "imdb_df.info()\n",
    "\n",
    "\n",
    "# \n",
    "# While this cell runs, which takes may be 5 seconds, you will see an asterisk on the left side of Jupyter in the brackets.\n",
    "# \n",
    "# When completed the asterisk is replaced by a number, for example [3] if it is the third cell you have run\n",
    "#\n",
    "\n",
    "# Jupyter prints the returned value from the last executed line in the cell.\n",
    "# This saves us typing print(imdb_df.info()) which asks for it to be printed.\n",
    "# If you need to print multiple lines in a cell be sure to wrap print() around the lines you want to print."
   ]
  },
  {
   "cell_type": "markdown",
   "metadata": {},
   "source": [
    "### describe()\n",
    "\n",
    "describe() can be called on a particular column of a DataFrame (a Series) to find out min, max, median, etc.\n",
    "* imdb_df.genres.describe(): calls the describe() function on the genres column of the imdb_df dataframe"
   ]
  },
  {
   "cell_type": "code",
   "execution_count": null,
   "metadata": {},
   "outputs": [],
   "source": [
    "# Run this:\n",
    "imdb_df.genres.describe()\n",
    "# Again, Jupyter will print results because this is the last command in the cell.  Otherwise wrap in print(xxx)"
   ]
  },
  {
   "cell_type": "markdown",
   "metadata": {},
   "source": [
    "### value_counts()\n",
    "\n",
    "value_counts() can be called on a Series to find out the frequency distribution, especially useful for categorical or binary variables.\n",
    "* imdb_df.genres.value_counts(): calls the value_counts() function on the genres column of the imdb_df dataframe\n",
    "\n",
    "We use ***value_counts()*** frequently and in exercises you will be asked to specify it.\n",
    "\n",
    "\n",
    "Beware, it must be specified on a particular column (Series)."
   ]
  },
  {
   "cell_type": "code",
   "execution_count": null,
   "metadata": {},
   "outputs": [],
   "source": [
    "# Run this:\n",
    "imdb_df.genres.value_counts()"
   ]
  },
  {
   "cell_type": "markdown",
   "metadata": {},
   "source": [
    "### Pandas slicing is used to select a portion of a dataframe.\n",
    "\n",
    "Slicing is analogous to a where clause in SQL.\n",
    "\n",
    "Use slices to obtain part of the original dataframe.\n",
    "\n",
    "However, it is much more like where in a SQL view; the dataframe points to the original dataframe and remembers how you have sliced it, rather than creating a duplicate of the entire set of data.\n",
    "\n",
    "Note the syntax:\n",
    "*  Put the \"where\" restriction in square brackets\n",
    "*  You must refer to the dataframe name again in the brackets (imdb_df.genres).\n",
    "*  We are using the | operator as \"or\" since we want films which are either Comedy or Drama.  Use & for \"and\".\n",
    "\n",
    "### Exericse: Use info() to see how the new dataframe is smaller than the original\n",
    "\n"
   ]
  },
  {
   "cell_type": "code",
   "execution_count": null,
   "metadata": {},
   "outputs": [],
   "source": [
    "# Your first slice:\n",
    "dramacom_df = imdb_df[(imdb_df.genres == 'Comedy') | (imdb_df.genres == 'Drama')]\n",
    "\n",
    "# Add your code here\n"
   ]
  },
  {
   "cell_type": "markdown",
   "metadata": {},
   "source": [
    "### Exercise: get the count of how many records there are per start year\n",
    "\n",
    "Hint: Reuse the important command which was introduced earlier."
   ]
  },
  {
   "cell_type": "code",
   "execution_count": null,
   "metadata": {},
   "outputs": [],
   "source": [
    "# Please edit this following line:\n",
    "dramacom_df.startYear.your_code_here()"
   ]
  },
  {
   "cell_type": "markdown",
   "metadata": {},
   "source": [
    "### Exercise Use slicing to limit dramacom_df to films starting in the year 2000 or later.  \n",
    "\n",
    "Hint: Look at how we restricted to comedy and drama above"
   ]
  },
  {
   "cell_type": "code",
   "execution_count": null,
   "metadata": {},
   "outputs": [],
   "source": [
    "dramacom_df = dramacom_df[ # your code here ]"
   ]
  },
  {
   "cell_type": "markdown",
   "metadata": {},
   "source": [
    "### Exercise: Check the value_counts() for the resulting slice"
   ]
  },
  {
   "cell_type": "code",
   "execution_count": null,
   "metadata": {},
   "outputs": [],
   "source": [
    "# Your code here"
   ]
  },
  {
   "cell_type": "markdown",
   "metadata": {},
   "source": [
    "### Exercise: Use dataframe slicing to identify title and genre of the 2115 film\n",
    "\n",
    "**We are puzzled by the 2115 film.  Let us see how to inspect the data for one row.**\n",
    "\n",
    "Hint: we are going to slice again.  Feel free to look at how we selected drama and comedy again.\n",
    "\n",
    "Since we are not assigning to a variable on the left side, jupyter will simply print the result."
   ]
  },
  {
   "cell_type": "code",
   "execution_count": null,
   "metadata": {},
   "outputs": [],
   "source": [
    "dramacom_df[# your code here]"
   ]
  },
  {
   "cell_type": "markdown",
   "metadata": {},
   "source": [
    "### Exercise: Limit dramacom_df to films starting before 2020, then check the counts\n",
    "\n",
    "Hint: slicing yet again\n",
    "\n",
    "Note: Before 2020, not including 2020."
   ]
  },
  {
   "cell_type": "code",
   "execution_count": null,
   "metadata": {},
   "outputs": [],
   "source": [
    "# You are re-assiging the result to dramacom_df.\n",
    "#\n",
    "# So if you mess this line up you will need to run cells again from the first time it is assigned, above.\n",
    "#\n",
    "dramacom_df = dramacom_df[# your code here]\n",
    "\n"
   ]
  },
  {
   "cell_type": "markdown",
   "metadata": {},
   "source": [
    "### crosstab()\n",
    "\n",
    "The pandas crosstab function will generate a dataframe (i.e. table) summing up the intersections of data."
   ]
  },
  {
   "cell_type": "code",
   "execution_count": null,
   "metadata": {},
   "outputs": [],
   "source": [
    "# Run this:\n",
    "pd.crosstab(dramacom_df.genres, dramacom_df.startYear)"
   ]
  },
  {
   "cell_type": "markdown",
   "metadata": {},
   "source": [
    "### Crosstab: genre v. isAdult\n",
    "\n",
    "Try a crosstab yourself here"
   ]
  },
  {
   "cell_type": "code",
   "execution_count": null,
   "metadata": {},
   "outputs": [],
   "source": [
    "# Your code here"
   ]
  },
  {
   "cell_type": "markdown",
   "metadata": {},
   "source": [
    "## Matplotlib Module\n",
    "\n",
    "Matplotlib is an important module for plotting.\n",
    "\n",
    "The jupyter magic command \"%matplotlib inline\" is required before importing matplotlib or the interactive display will not work correctly.  \n",
    "\n"
   ]
  },
  {
   "cell_type": "code",
   "execution_count": null,
   "metadata": {},
   "outputs": [],
   "source": [
    "%matplotlib inline\n",
    "import matplotlib.pyplot as plt\n",
    "# Run this"
   ]
  },
  {
   "cell_type": "markdown",
   "metadata": {},
   "source": [
    "### Exercise: copy crosstab to a dataframe and get the info() for the resulting dataframe\n",
    "\n",
    "We want to copy a crosstab about genres and startYear to a dataframe for possible plotting.\n",
    "\n",
    "We have wrapped the type() call in print() so it will still print after you add another line of code.\n",
    "* print(x(y)): call the function x(y) and get its return value and then print what was returned from the x(y) function."
   ]
  },
  {
   "cell_type": "code",
   "execution_count": null,
   "metadata": {},
   "outputs": [],
   "source": [
    "pdata_df = pd.crosstab(dramacom_df.genres, dramacom_df.startYear)\n",
    "print(type(pdata_df))\n",
    "\n",
    "# Get the types of columns in this dataframe pdata\n",
    "# Your code here:\n"
   ]
  },
  {
   "cell_type": "markdown",
   "metadata": {},
   "source": [
    "### Exercise: Rewrite the crosstab above to swap rows and columns.  Put the revised code below\n",
    "\n",
    "Looking at the above columns, it seems that the rows and columns are swapped from the ideal."
   ]
  },
  {
   "cell_type": "code",
   "execution_count": null,
   "metadata": {},
   "outputs": [],
   "source": [
    "# your code here\n"
   ]
  },
  {
   "cell_type": "markdown",
   "metadata": {},
   "source": [
    "## plot.line()\n",
    "\n",
    "plot.line() or plot.barh() or plot.bar() are among many functions available to plot pandas dataframes directly.\n",
    "\n",
    "These functions are all stacked on top of the matplotlib plotting libraries."
   ]
  },
  {
   "cell_type": "code",
   "execution_count": null,
   "metadata": {},
   "outputs": [],
   "source": [
    "# Run this\n",
    "pdata_df.plot.line()"
   ]
  },
  {
   "cell_type": "markdown",
   "metadata": {},
   "source": [
    "### --- End of Core Tutorial ---"
   ]
  },
  {
   "cell_type": "markdown",
   "metadata": {},
   "source": [
    "## Further exercises"
   ]
  },
  {
   "cell_type": "markdown",
   "metadata": {},
   "source": [
    "### Exercise: Save the plot to file"
   ]
  },
  {
   "cell_type": "code",
   "execution_count": null,
   "metadata": {},
   "outputs": [],
   "source": [
    "# Supply a filename (end in .png) to savefig and run this cell.  \n",
    "# Be sure to put the filename in single or double quotes and beware if using \\ characters anywhere\n",
    "_ = pdata_df.plot.line()\n",
    "plt.savefig(...)\n",
    "plt.show()"
   ]
  },
  {
   "cell_type": "markdown",
   "metadata": {},
   "source": [
    "### Exercise: Pickle the dataframe for later reading\n",
    "\n",
    "Pickling in python refers to saving the full object to disk. \n",
    "\n",
    "Later you can read in this file quite quickly.\n"
   ]
  },
  {
   "cell_type": "code",
   "execution_count": null,
   "metadata": {},
   "outputs": [],
   "source": [
    "# Supply a filename (end in .pkl) and run this cell:\n",
    "pdata_df.to_pickle(...)"
   ]
  },
  {
   "cell_type": "markdown",
   "metadata": {},
   "source": [
    "### Exercise: Export the dataframe to Excel for sharing"
   ]
  },
  {
   "cell_type": "code",
   "execution_count": null,
   "metadata": {},
   "outputs": [],
   "source": [
    "# Supply a filename (end in .xlsx) and run this cell:\n",
    "pdata_df.to_excel(...)"
   ]
  },
  {
   "cell_type": "markdown",
   "metadata": {},
   "source": [
    "### Exercise: Make the chart larger\n",
    "\n",
    "You will want to review the documentation at https://pandas.pydata.org/pandas-docs/stable/reference/api/pandas.DataFrame.plot.html for parameters related to these steps.\n",
    "\n",
    "The documentation link is for plot() not plot.line(), but I point you here since it has all the parameters.\n",
    "\n",
    "plot.line() already takes care of x, y, and kind so you do not have to pass those in.\n",
    "\n",
    "In the documentation there are many arguments.  You do **not** pass them all into the function.  You simply pass in the ones you want to modify from the default value in the documentation.\n",
    "\n",
    "Python lets you name the argument with syntax like: \n",
    "    parameter_name = parameter_value\n",
    "    \n",
    "The above line simply overwrites the default value for the specified parameter."
   ]
  },
  {
   "cell_type": "code",
   "execution_count": null,
   "metadata": {},
   "outputs": [],
   "source": [
    "pdata_df.plot.line( # your code here )"
   ]
  },
  {
   "cell_type": "markdown",
   "metadata": {},
   "source": [
    "### Exercise: Add title to chart \n",
    "\n",
    "Hint: You will find something in the documentation of plot() about this."
   ]
  },
  {
   "cell_type": "code",
   "execution_count": null,
   "metadata": {},
   "outputs": [],
   "source": [
    "# your code here\n"
   ]
  },
  {
   "cell_type": "markdown",
   "metadata": {},
   "source": [
    "### Exercise: Add x-axis and y-axis labels\n",
    "\n",
    "This will be a bit tricky.  It appears you have to get the axes returned from the plot and call another function on it.\n",
    "\n",
    "Google it...\n",
    "\n",
    "You may run across the \"axes\" concept in matplotlib.  The plot() returns an object of type axes, and often is assigned to a variable like ax:\n",
    "    ax = pdata_df.plot.line()\n",
    "    \n",
    "There are functions in matplotlib which are invoked on the axes, like ax.func_name(func_arguments)\n",
    "\n",
    "If you make modifications to the axes but the plot does not display, try plt.show()."
   ]
  },
  {
   "cell_type": "code",
   "execution_count": null,
   "metadata": {},
   "outputs": [],
   "source": [
    "# your code here\n"
   ]
  },
  {
   "cell_type": "markdown",
   "metadata": {},
   "source": [
    "### Exercise: Save the updated plot to file"
   ]
  },
  {
   "cell_type": "code",
   "execution_count": null,
   "metadata": {},
   "outputs": [],
   "source": [
    "# your code here"
   ]
  }
 ],
 "metadata": {
  "kernelspec": {
   "display_name": "Python 3",
   "language": "python",
   "name": "python3"
  },
  "language_info": {
   "codemirror_mode": {
    "name": "ipython",
    "version": 3
   },
   "file_extension": ".py",
   "mimetype": "text/x-python",
   "name": "python",
   "nbconvert_exporter": "python",
   "pygments_lexer": "ipython3",
   "version": "3.7.3"
  }
 },
 "nbformat": 4,
 "nbformat_minor": 2
}
