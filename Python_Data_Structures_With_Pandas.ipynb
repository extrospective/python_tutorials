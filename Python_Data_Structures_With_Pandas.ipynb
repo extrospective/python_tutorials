{
 "cells": [
  {
   "cell_type": "markdown",
   "metadata": {},
   "source": [
    "# Python Data Structures with Pandas\n",
    "\n",
    "* Mark Andersen, June 5 2019\n",
    "\n",
    "This tutorial covers basic programming constructs of python.\n",
    "\n",
    "* From other tutorials we learned that colleagues with less formal software training need some gaps filled in about functions, arguments, exceptions.\n",
    "* This tutorial covers basic data structures which are used across python modules\n",
    "* Finally, the use of structures like lists and dictionaries in pandas sample code is illustrated.\n",
    "\n",
    "Prerequisite: introductory tutorial to get environment setup"
   ]
  },
  {
   "cell_type": "markdown",
   "metadata": {},
   "source": [
    "# Indentation and Whitespace"
   ]
  },
  {
   "cell_type": "markdown",
   "metadata": {},
   "source": [
    "## Python is sensitive to whitespace, which is whether your code is indented\n",
    "\n",
    "* Control flow (if, for) and functions, will have indentation -- introduced below.  You use the tab key to indent.  Typical editor will replace the tab with four spaces rather than leaving tab in code (configurable)\n",
    "* Do *not* indent unless called for\n",
    "* A line which is not indented is assumed not to be in a block of code"
   ]
  },
  {
   "cell_type": "code",
   "execution_count": null,
   "metadata": {},
   "outputs": [],
   "source": [
    "# Run this cell\n",
    "\n",
    "# Example 1:\n",
    "\n",
    "# The function prints two values:\n",
    "def function_good():\n",
    "    print(1)\n",
    "    print(2)\n",
    "    \n",
    "# This cell successfully defined a function and has no output"
   ]
  },
  {
   "cell_type": "code",
   "execution_count": null,
   "metadata": {},
   "outputs": [],
   "source": [
    "# Run this cell\n",
    "\n",
    "# Example 2:\n",
    "\n",
    "# Author intended to print two values in the function, but the python interpreter thought that print(2) is a separate statement *outside* the function\n",
    "def function_bad():\n",
    "    print(1)\n",
    "print(2)\n",
    "\n",
    "# This cell has a mistake that it defines the function incompletely and runs the print(2) statement"
   ]
  },
  {
   "cell_type": "markdown",
   "metadata": {},
   "source": [
    "As you go through the tutorial be attentive to whitespace."
   ]
  },
  {
   "cell_type": "markdown",
   "metadata": {},
   "source": [
    "# Variables\n",
    "\n",
    "* Variables are containers to hold data"
   ]
  },
  {
   "cell_type": "code",
   "execution_count": null,
   "metadata": {},
   "outputs": [],
   "source": [
    "# Run this cell\n",
    "\n",
    "# Assign to variable by placing on left side of equation\n",
    "a = 3\n",
    "\n",
    "# Use variable on right side of equation\n",
    "b = a + 4\n",
    "\n",
    "# Or use variable in function call\n",
    "print(b)"
   ]
  },
  {
   "cell_type": "markdown",
   "metadata": {},
   "source": [
    "## Strings, Ints, Floats, Boolean - types of information held by variables\n",
    "\n",
    "* Strings are in single or double quotes:\n",
    "  * a = 'happy'  <- the string 'happy' = \"happy\" is assigned to variable a\n",
    "* Integers (ints) have no fractional component\n",
    "  * b = int(2.5)  <- b will have value 2 which is an integer\n",
    "* Floats (doubles) have fractional component\n",
    "  * b = 2.5       <- b holds the value 2.5\n",
    "* Boolean are True/False with a capital first letter\n",
    "  * c = True      <-  C is marked as True and can be used in a condition"
   ]
  },
  {
   "cell_type": "code",
   "execution_count": null,
   "metadata": {},
   "outputs": [],
   "source": [
    "# Run this cell\n",
    "\n",
    "# Notice how the boolean c can be used to determine whether to print out a value\n",
    "c = True\n",
    "b = int(2.5)\n",
    "\n",
    "if c:\n",
    "    print(b)"
   ]
  },
  {
   "cell_type": "markdown",
   "metadata": {},
   "source": [
    "The above cell demonstrated a first type of *control flow*: if statements"
   ]
  },
  {
   "cell_type": "markdown",
   "metadata": {},
   "source": [
    "## F-strings\n",
    "\n",
    "* Again we introduce f-strings as a way to cause python to substitute a value in a string\n",
    "* The letter f must occur before the string\n",
    "* In a f-string, all curly braces are interpreted as calls for evaluation\n",
    "\n",
    "F-strings are used liberally when coding below"
   ]
  },
  {
   "cell_type": "code",
   "execution_count": null,
   "metadata": {},
   "outputs": [],
   "source": [
    "# Run this cell\n",
    "\n",
    "blah = 25\n",
    "print('This is not a f-string {blah}')\n",
    "print(f'This is a f-string {blah}')\n"
   ]
  },
  {
   "cell_type": "markdown",
   "metadata": {},
   "source": [
    "# Control Flow"
   ]
  },
  {
   "cell_type": "markdown",
   "metadata": {},
   "source": [
    "## Control Flow: If / Else / Elif\n",
    "\n",
    "* if <condition>:      \n",
    "  * Evaluate a condition and if true go into the next block (indented)\n",
    "* elif <condition>:\n",
    "  * Shorthand for \"else if\" in other languages.  If the prior condition was false, also evaluate this condition and if it is true do that block of code\n",
    "* else:\n",
    "  * If none of the conditions above were true execute the next block of code"
   ]
  },
  {
   "cell_type": "code",
   "execution_count": null,
   "metadata": {},
   "outputs": [],
   "source": [
    "# Run this cell\n",
    "\n",
    "a = 25\n",
    "b = 20\n",
    "c = 15\n",
    "\n",
    "if a < b:\n",
    "    print('a < b')\n",
    "elif b < c:\n",
    "    print('b < c')\n",
    "else:\n",
    "    print('none of the conditions were true')"
   ]
  },
  {
   "cell_type": "markdown",
   "metadata": {},
   "source": [
    "## Control Flow: For loops\n",
    "\n",
    "* For loops iterate over a list or iterator.  \n",
    "* We will introduce lists in more detail below.  The purpose here is to notice the for syntax\n",
    "  * Notice the colon at the end of the iteration line\n",
    "  * Notice the indentation within the loop"
   ]
  },
  {
   "cell_type": "code",
   "execution_count": null,
   "metadata": {},
   "outputs": [],
   "source": [
    "# Run this cell\n",
    "\n",
    "for i in [1, 2, 3, 4]:\n",
    "    print(i)"
   ]
  },
  {
   "cell_type": "markdown",
   "metadata": {},
   "source": [
    "## For loops can use \"continue\" to finish one pass through the loop and go back to the top"
   ]
  },
  {
   "cell_type": "code",
   "execution_count": null,
   "metadata": {},
   "outputs": [],
   "source": [
    "# Run this cell\n",
    "\n",
    "a = [1, 2, 3, 6, 5, 25, 50, 755, 3, 100, 243, 7, 5, 6, 7, 5]\n",
    "\n",
    "for i in a:\n",
    "    # Note the use of '==' to test equality, which is different from '=' for assignment.  In SQL we use '=' for both!\n",
    "    if i == 3:\n",
    "        continue\n",
    "    print(i)\n",
    "        "
   ]
  },
  {
   "cell_type": "markdown",
   "metadata": {},
   "source": [
    "## Exercise: write a for loop similar to above, but \"continue\" on values between 4 and 8 (i.e. 5, 6, or 7)\n",
    "\n",
    "* Comparison operators\n",
    "  * \\> greater than\n",
    "  * \\>= greater or equal\n",
    "  * \\< less than\n",
    "  * \\< = less than or equal\n",
    "* Combine two operators in condition\n",
    "  * (x < 3) and (x < 5): tests whether both conditions are True\n",
    "  * (x > 3) or (x < 5): tests whether either condition is True"
   ]
  },
  {
   "cell_type": "code",
   "execution_count": null,
   "metadata": {},
   "outputs": [],
   "source": [
    "# Your code here\n",
    "\n",
    "\n"
   ]
  },
  {
   "cell_type": "markdown",
   "metadata": {},
   "source": [
    "## For loops can use \"break\" to stop execution"
   ]
  },
  {
   "cell_type": "code",
   "execution_count": null,
   "metadata": {},
   "outputs": [],
   "source": [
    "# Run this cell\n",
    "\n",
    "for i in a:\n",
    "    print(i)\n",
    "    if i > 4:\n",
    "        break"
   ]
  },
  {
   "cell_type": "markdown",
   "metadata": {},
   "source": [
    "## Exercise: write a similar loop but break the loop as soon as the value = 243 is encountered in the list"
   ]
  },
  {
   "cell_type": "code",
   "execution_count": null,
   "metadata": {},
   "outputs": [],
   "source": [
    "# Your code here\n",
    "\n",
    "\n"
   ]
  },
  {
   "cell_type": "code",
   "execution_count": null,
   "metadata": {},
   "outputs": [],
   "source": []
  },
  {
   "cell_type": "markdown",
   "metadata": {},
   "source": [
    "# Functions - The Building Blocks of Python Programming\n",
    "\n",
    "* Functions are blocks of code which can be re-used\n",
    "  * Arguments are provided to allow the code to have more generalizability.  These arguments to the function are variables within the function.\n",
    "  * Functions often return values which then can be assigned to a variable or used in a larger code context\n",
    "\n",
    "\n",
    "### For example:\n",
    "* def func(a, b)  <-  a and b are arguments (variables) which may be used in the function\n",
    "* If the function has a \"return\" statement, the function stops execution at that point and returns the value to the caller\n",
    "\n",
    "### Syntax\n",
    "* def declares the function is being defined\n",
    "* The function_name comes next.  That function name is then assigned the block of code\n",
    "* The arguments are listed in parentheses\n",
    "* A colon is required at the end of the function declaration\n",
    "* Indentation is required for the code in the function.  If a line is not indented it will be presumed to be outside the function scope.\n",
    "* If a function has a return statement, it stops execution of the function and whatever is with the return statement will be assigned to a\n",
    "left-side variable if any"
   ]
  },
  {
   "cell_type": "code",
   "execution_count": null,
   "metadata": {},
   "outputs": [],
   "source": [
    "# Run this cell\n",
    "\n",
    "# function to double a number\n",
    "def double_number(num_to_double):\n",
    "    return num_to_double * 2\n",
    "\n",
    "# call double_number and store the result in variable x\n",
    "x = double_number(3)\n",
    "print(x)"
   ]
  },
  {
   "cell_type": "markdown",
   "metadata": {},
   "source": [
    "Please note the *return* in the code above.  This allows the function to return a value which can then be used.  \n",
    "In the double_number function above it returned a new value which is twice the original number.  This return value was then assigned to variable x and it is available as variable x from then on."
   ]
  },
  {
   "cell_type": "markdown",
   "metadata": {},
   "source": [
    "## Exercise:\n",
    "\n",
    "* Write a function which takes two arguments and *returns* their product"
   ]
  },
  {
   "cell_type": "code",
   "execution_count": null,
   "metadata": {},
   "outputs": [],
   "source": [
    "# Your function code here\n",
    "\n",
    "\n",
    "\n"
   ]
  },
  {
   "cell_type": "code",
   "execution_count": null,
   "metadata": {},
   "outputs": [],
   "source": [
    "# Test your function here and assign result to a variable and print the variable\n",
    "\n",
    "\n"
   ]
  },
  {
   "cell_type": "markdown",
   "metadata": {},
   "source": [
    "## Exercise:\n",
    "\n",
    "* Write a function which takes two arguments and returns the smaller of the two values\n",
    "* You can use an *if* statement in the function to compare values and determine what to return"
   ]
  },
  {
   "cell_type": "code",
   "execution_count": null,
   "metadata": {},
   "outputs": [],
   "source": [
    "## Your function code here\n",
    "\n",
    "\n",
    "\n"
   ]
  },
  {
   "cell_type": "code",
   "execution_count": null,
   "metadata": {},
   "outputs": [],
   "source": [
    "# Test your function here"
   ]
  },
  {
   "cell_type": "markdown",
   "metadata": {},
   "source": [
    "### When a function hits a return statement it is done"
   ]
  },
  {
   "cell_type": "code",
   "execution_count": null,
   "metadata": {},
   "outputs": [],
   "source": [
    "# Run this cell\n",
    "\n",
    "def func(a, b):\n",
    "    return 25\n",
    "    c = a + b\n",
    "    print('function got here')\n",
    "    return c\n",
    "\n",
    "func(3, 4)\n",
    "\n",
    "# Note that the function stopped as soon as the return statement was encountered"
   ]
  },
  {
   "cell_type": "markdown",
   "metadata": {},
   "source": [
    "### Functions can have default arguments which are useful so not every argument has to be provided by the caller\n",
    "\n",
    "* Best practice is not to specify default arguments in your function call unless needed."
   ]
  },
  {
   "cell_type": "code",
   "execution_count": null,
   "metadata": {},
   "outputs": [],
   "source": [
    "# Run this cell\n",
    "\n",
    "def multiply_three_numbers(num_a, num_b=1, num_c=1):\n",
    "    return num_a * num_b * num_c\n",
    "\n",
    "\n",
    "print(multiply_three_numbers(2, 2, 2))\n",
    "\n",
    "# here we do not pass in num_c\n",
    "print(multiply_three_numbers(4, 5))\n",
    "\n",
    "# here we only pass in num_a\n",
    "print(multiply_three_numbers(8))"
   ]
  },
  {
   "cell_type": "markdown",
   "metadata": {},
   "source": [
    "## Exercise:\n",
    "\n",
    "* Write a function which takes two arguments and returns their product, with default values for the arguments (your choice) in case the function call does not provide them.  \n",
    "* Call the function passing 0, then 1, then 2 arguments"
   ]
  },
  {
   "cell_type": "code",
   "execution_count": null,
   "metadata": {},
   "outputs": [],
   "source": [
    "# Your code to define function here"
   ]
  },
  {
   "cell_type": "code",
   "execution_count": null,
   "metadata": {},
   "outputs": [],
   "source": [
    "# Your code to call function three different ways here"
   ]
  },
  {
   "cell_type": "markdown",
   "metadata": {},
   "source": [
    "### Unnamed and named arguments in a function call\n",
    "\n",
    "* If you do not name arguments when calling a function, python will assign to arguments in the call sequence\n",
    "* If you do name arguments, then those names determine which are assigned\n",
    "* If you mix named and unnamed arguments, all unnamed arguments must occur before named arguments"
   ]
  },
  {
   "cell_type": "code",
   "execution_count": null,
   "metadata": {},
   "outputs": [],
   "source": [
    "# Run this cell\n",
    "\n",
    "def double_triple_etc(duple=0, triple=0, quadruple=0):\n",
    "    return duple*2 + triple*3 + quadruple*4\n",
    "\n",
    "print(double_triple_etc(triple=3))\n",
    "\n",
    "print(double_triple_etc(quadruple=5))\n",
    "\n",
    "print(double_triple_etc(1, quadruple=2))"
   ]
  },
  {
   "cell_type": "code",
   "execution_count": null,
   "metadata": {},
   "outputs": [],
   "source": [
    "# not allowed because unnamed argument is used after named argument\n",
    "# python would not know what is intended:\n",
    "print(double_triple_etc(triple=2, 3))"
   ]
  },
  {
   "cell_type": "code",
   "execution_count": null,
   "metadata": {},
   "outputs": [],
   "source": []
  },
  {
   "cell_type": "markdown",
   "metadata": {},
   "source": [
    "# Exceptions and Errors\n",
    "\n",
    "* When a programmatic error occurs an exception is thrown\n",
    "* The exception stops the function and sends a signal back to the calling function"
   ]
  },
  {
   "cell_type": "code",
   "execution_count": null,
   "metadata": {},
   "outputs": [],
   "source": [
    "# Run this cell\n",
    "\n",
    "1/0"
   ]
  },
  {
   "cell_type": "markdown",
   "metadata": {},
   "source": [
    "## Exceptions can be handled by catching them\n",
    "\n",
    "* Use with care as this may result in hiding important errors.\n",
    "* try block has indented code, and any error in that code jumps to the exception catching block\n",
    "* The exception catching block should specify the exact type of exception to catch.  Typically you have to trigger that exception type to find out it's name\n",
    "* Any uncaught exception will terminate your code."
   ]
  },
  {
   "cell_type": "code",
   "execution_count": null,
   "metadata": {},
   "outputs": [],
   "source": [
    "# Run this cell\n",
    "\n",
    "try:\n",
    "    a = 'apple'\n",
    "    x = 1 / 0\n",
    "    xx = 'banana'  # Line of code will notn be encountered due to error in line above which then transfers control to 'except' block\n",
    "except ZeroDivisionError as err:\n",
    "    print(f'Ignoring error {err}')\n",
    "\n",
    "print('Note that apple was defined, but the code never defined banana, so now a new error was caused and not caught')  \n",
    "print()\n",
    "print(a)\n",
    "print(xx)"
   ]
  },
  {
   "cell_type": "markdown",
   "metadata": {},
   "source": [
    "### Exceptions and call stacks\n",
    "\n",
    "When functions call other functions, which call other functions, the exception may produce a call stack.  Reading the call stack helps determine where the error occurred."
   ]
  },
  {
   "cell_type": "code",
   "execution_count": null,
   "metadata": {},
   "outputs": [],
   "source": [
    "# Run this cell\n",
    "\n",
    "def double(x):\n",
    "    # this function has an obvious error:\n",
    "    return x / 0\n",
    "\n",
    "def add_numbers(x, y):\n",
    "    return x + double(y)\n",
    "\n",
    "def add_for_list(list_of_num):\n",
    "    for i in list_of_num:\n",
    "        print(add_numbers(i, i+1))\n",
    "        \n",
    "add_for_list([2, 3, 4])"
   ]
  },
  {
   "cell_type": "markdown",
   "metadata": {},
   "source": [
    "In the above stack dump, notice how the type of exception is at the bottom, the line where the exception has occurred is reported near the bottom, and the top of the call stack is the first function call.\n",
    "\n",
    "In diagnosing this issue, the most relevant information may be near the bottom.  But not necessarily."
   ]
  },
  {
   "cell_type": "markdown",
   "metadata": {},
   "source": [
    "# Data Structures"
   ]
  },
  {
   "cell_type": "markdown",
   "metadata": {},
   "source": [
    "## Lists - A principal data strucutre for python"
   ]
  },
  {
   "cell_type": "code",
   "execution_count": null,
   "metadata": {},
   "outputs": [],
   "source": [
    "# Run this cell\n",
    "\n",
    "a = [1, 2, 3, 4, 5]\n",
    "b = [2, 3, 4, 5, 7, 9]\n",
    "\n",
    "print(f'a is {a}')\n",
    "print(f'b is {b}')"
   ]
  },
  {
   "cell_type": "markdown",
   "metadata": {},
   "source": [
    "## List functions:\n",
    "\n",
    "* list.append() adds an item to the end of the list\n",
    "* list.pop() removes the last item from the list\n",
    "* list.remove() removes an item from the list\n",
    "* list+list adds lists together"
   ]
  },
  {
   "cell_type": "markdown",
   "metadata": {},
   "source": [
    "## Exercise: Write a function which takes two lists, adds them together and returns the result as a single list"
   ]
  },
  {
   "cell_type": "code",
   "execution_count": null,
   "metadata": {},
   "outputs": [],
   "source": [
    "# Your function code here\n",
    "\n"
   ]
  },
  {
   "cell_type": "code",
   "execution_count": null,
   "metadata": {},
   "outputs": [],
   "source": [
    "# Your code to call the function here using the lists a and b defined above\n",
    "# Notice that items are not eliminated\n",
    "\n"
   ]
  },
  {
   "cell_type": "markdown",
   "metadata": {},
   "source": [
    "## Exercise: Write a function which sums all the numbers in a list (one argument) by iterating over the list and returns that sum\n",
    "\n",
    "* Remember the syntax for iterating over the list one at a time:\n",
    "\n",
    "```\n",
    "for i in list:\n",
    "    do_something_to(i)\n",
    "```    \n",
    "    "
   ]
  },
  {
   "cell_type": "code",
   "execution_count": null,
   "metadata": {},
   "outputs": [],
   "source": [
    "# Your function code here"
   ]
  },
  {
   "cell_type": "code",
   "execution_count": null,
   "metadata": {},
   "outputs": [],
   "source": [
    "# Call the function here"
   ]
  },
  {
   "cell_type": "markdown",
   "metadata": {},
   "source": [
    "## Lists can be accessed with array accessors\n",
    "\n",
    "* [i:j] - get elements starting at position i and ending just before position j\n",
    "* [i:] - get all elements starting at i\n",
    "* [:j] - get all elements up to (excluding) j"
   ]
  },
  {
   "cell_type": "code",
   "execution_count": null,
   "metadata": {},
   "outputs": [],
   "source": [
    "# Run this cell\n",
    "\n",
    "a = [1, 1, 1, 2, 3, 4, 4, 4, 4, 27, 34]\n",
    "a[3:8]"
   ]
  },
  {
   "cell_type": "markdown",
   "metadata": {},
   "source": [
    "## Exericse: Get the first 5 elements of list"
   ]
  },
  {
   "cell_type": "code",
   "execution_count": null,
   "metadata": {},
   "outputs": [],
   "source": [
    "# Your code here"
   ]
  },
  {
   "cell_type": "markdown",
   "metadata": {},
   "source": [
    "You can iterate a list in reverse with a third argument = -1 for direction"
   ]
  },
  {
   "cell_type": "code",
   "execution_count": null,
   "metadata": {},
   "outputs": [],
   "source": [
    "# Run this cell\n",
    "\n",
    "a = [1, 1, 1, 2, 3, 4, 4, 4, 4, 27, 34]\n",
    "a[::-1]"
   ]
  },
  {
   "cell_type": "code",
   "execution_count": null,
   "metadata": {},
   "outputs": [],
   "source": []
  },
  {
   "cell_type": "markdown",
   "metadata": {},
   "source": [
    "## Sets\n",
    "\n",
    "* Not as often used as lists.  \n",
    "* Eliminates redundant elements in lists\n",
    "* Useful for taking unions and intersections to find unique elements"
   ]
  },
  {
   "cell_type": "code",
   "execution_count": null,
   "metadata": {},
   "outputs": [],
   "source": [
    "# Run this cell\n",
    "\n",
    "aset = set(a)\n",
    "bset = set([2,3,4,5,7,9])\n",
    "print(f'Intersection: {aset.intersection(bset)}')\n",
    "print(f'Union: {aset.union(bset)}')"
   ]
  },
  {
   "cell_type": "code",
   "execution_count": null,
   "metadata": {},
   "outputs": [],
   "source": [
    "# Run this cell\n",
    "\n",
    "# Sets can also be useful for removing redundant\n",
    "a = [1, 1, 1, 2, 3, 4, 4, 4, 4]\n",
    "print(set(a))"
   ]
  },
  {
   "cell_type": "markdown",
   "metadata": {},
   "source": [
    "## Tuples\n",
    "\n",
    "* Tuples look like lists, but typically have a fixed number of elements\n",
    "* Generally prefer lists to tuples.  But you may encounter tuples in some cases. "
   ]
  },
  {
   "cell_type": "code",
   "execution_count": null,
   "metadata": {},
   "outputs": [],
   "source": [
    "# Run this cell\n",
    "\n",
    "a = (2, 3, 4)\n",
    "print(f'Element 0 of a is {a[0]}')"
   ]
  },
  {
   "cell_type": "markdown",
   "metadata": {},
   "source": [
    "## Exercise: Write a function which takes two arguments which are lists and returns a tuple of lists\n",
    "\n",
    "* The first element of the tuple will be the union of the two parameters\n",
    "* The second element of the tuple will be the intersection of the two parameters"
   ]
  },
  {
   "cell_type": "code",
   "execution_count": null,
   "metadata": {},
   "outputs": [],
   "source": [
    "# Your function code here"
   ]
  },
  {
   "cell_type": "code",
   "execution_count": null,
   "metadata": {},
   "outputs": [],
   "source": [
    "# Invoke your function here"
   ]
  },
  {
   "cell_type": "markdown",
   "metadata": {},
   "source": [
    "## Dictionary - Another principal data structure\n",
    "\n",
    "* Dictionaries have keys and values\n",
    "* They can be used to count elements matching a key\n",
    "* They can be used to keep track of things and look them up later\n",
    "\n",
    "### Keys are \"entries\" in the dictionary\n",
    "### Values are what you find in the dictionary at the Key\n",
    "\n",
    "For example, a key could be an identifier and a value could be related information for the identifier"
   ]
  },
  {
   "cell_type": "code",
   "execution_count": null,
   "metadata": {},
   "outputs": [],
   "source": [
    "# Run this cell\n",
    "\n",
    "# Create a dictionary:\n",
    "\n",
    "adict = {\n",
    "    'apples': 2,\n",
    "    'bannanas': 3\n",
    "}\n",
    "\n",
    "print(f'How many apples do you have? {adict[\"apples\"]}')\n",
    "# Note: I had to put the apples in double quotes above to not confuse with the single quote around the whole thing"
   ]
  },
  {
   "cell_type": "markdown",
   "metadata": {},
   "source": [
    "## Exercise: Create a sample dictionary where each key points to another dictionary which has three elements\n",
    "\n",
    "* Keys will be the names 'Mike', 'Mark', and 'Fred'\n",
    "* Values for each will be a list:\n",
    "  * First element 'hair-color' and it will be a string\n",
    "  * Second element: 'height' which will be a height in inches\n",
    "  * Third element: 'current' which will be a boolean for whether the person is a current customer\n",
    "  \n",
    "Here is how the data should look:\n",
    "* Mike - brown / 72 / True\n",
    "* Mark - black / 70 / False\n",
    "* Fred - red / 71 / True\n",
    "\n",
    "Create the dictionary of dictionaries and then print it"
   ]
  },
  {
   "cell_type": "code",
   "execution_count": null,
   "metadata": {},
   "outputs": [],
   "source": [
    "# Your code here"
   ]
  },
  {
   "cell_type": "markdown",
   "metadata": {},
   "source": [
    "The purpose of the above exercise is simply to show that dictionaries can contain complex values. "
   ]
  },
  {
   "cell_type": "markdown",
   "metadata": {},
   "source": [
    "## Use dictionary to count occurrences in list"
   ]
  },
  {
   "cell_type": "code",
   "execution_count": null,
   "metadata": {},
   "outputs": [],
   "source": [
    "# Run this cell\n",
    "\n",
    "a_list = [1, 2, 3, 4, 3, 2, 1, 4, 5, 6, 7, 8]\n",
    "\n",
    "# Create an empty dictionary\n",
    "a_dict = {}\n",
    "\n",
    "for i in a_list:\n",
    "    # See if an entry exists in the dictionary already\n",
    "    if i in a_dict:\n",
    "        # Yes it does, add one each time\n",
    "        # \n",
    "        # The syntax \"+= 1\" is the same as taking the value and adding one more\n",
    "        a_dict[i] += 1\n",
    "    else:\n",
    "        # It does not yet exist, create a dictionary entry\n",
    "        a_dict[i] = 1\n",
    "        \n",
    "print(f'The frequency is in the dictionary {a_dict}')\n",
    "print(f'The frequency of fours in the data set is {a_dict[4]}')"
   ]
  },
  {
   "cell_type": "markdown",
   "metadata": {},
   "source": [
    "## Exercise: Create a *function* which does what the code above does\n",
    "\n",
    "* Takes an argument which is a list\n",
    "* Creates an empty dictionary and then populates that dictionary with keys=list items, and values=count of occurrences of list item\n",
    "\n",
    "Hint: You will basically use the code above and provide a function wrapper around it, need to indent it, and make sure the argument name in the function is the name of the list in the code.  When done return the result"
   ]
  },
  {
   "cell_type": "code",
   "execution_count": null,
   "metadata": {},
   "outputs": [],
   "source": [
    "# Your function code here\n",
    "\n"
   ]
  },
  {
   "cell_type": "code",
   "execution_count": null,
   "metadata": {},
   "outputs": [],
   "source": [
    "# Test calling your function here\n"
   ]
  },
  {
   "cell_type": "markdown",
   "metadata": {},
   "source": [
    "## Exercise: Write a *function* which takes one argument which is a *list of lists*\n",
    "\n",
    "* Similar to the exercise above, but this time instead of taking one list, take an argument which is a list of lists, and go through each list and do the same thing (counting up all the elements of the inner lists into a single sum across all lists.)"
   ]
  },
  {
   "cell_type": "code",
   "execution_count": null,
   "metadata": {},
   "outputs": [],
   "source": [
    "# Your function code here\n",
    "\n",
    "\n"
   ]
  },
  {
   "cell_type": "code",
   "execution_count": null,
   "metadata": {},
   "outputs": [],
   "source": [
    "# Test calling your function here\n"
   ]
  },
  {
   "cell_type": "markdown",
   "metadata": {},
   "source": [
    "## defaultdict - a dictionary with default values for when keys are not specified\n",
    "\n",
    "* Default dictionary is a dictionary which creates an entry as soon as you ask for it\n",
    "* This is a handy class to know about if you want to write code like above with less complexity\n",
    "\n",
    "Note: defaultdict is handy, but one can use python and never use this structure\n",
    "\n"
   ]
  },
  {
   "cell_type": "code",
   "execution_count": null,
   "metadata": {},
   "outputs": [],
   "source": [
    "# Run this cell\n",
    "\n",
    "from collections import defaultdict\n",
    "ice_cream_preferences = defaultdict(lambda: 'Vanilla')\n",
    "\n",
    "print(f'If you do not tell what Bob is interested in, it will guess Vanilla')\n",
    "print(f'What flavor of ice cream does Bob like? {ice_cream_preferences[\"Bob\"]}')\n",
    "\n",
    "ice_cream_preferences['Mark'] = 'Chocolate'\n",
    "    \n",
    "print(f'Mark likes {ice_cream_preferences[\"Mark\"]}')\n",
    "print(f'Steve likes {ice_cream_preferences[\"Steve\"]}')\n",
    "      "
   ]
  },
  {
   "cell_type": "markdown",
   "metadata": {},
   "source": [
    "### Use defaultdict rather than built in dictionary to sum list"
   ]
  },
  {
   "cell_type": "code",
   "execution_count": null,
   "metadata": {},
   "outputs": [],
   "source": [
    "# Run this cell\n",
    "\n",
    "# This default dict can be used so you can start with a type like int, and use the fact that\n",
    "# the default int has value 0 so you do not have to see if the key exists already.\n",
    "\n",
    "from collections import defaultdict\n",
    "\n",
    "# empty dictionary\n",
    "a_dict = defaultdict(int)\n",
    "\n",
    "a_list = [1, 2, 3, 4, 3, 2, 1, 4, 5, 6, 7, 8]\n",
    "\n",
    "for i in a_list:\n",
    "    # One can increment the value as it will be defaulting to 0 if it does not exist already\n",
    "    a_dict[i] += 1\n",
    "        \n",
    "print(f'The frequency is in the dictionary {a_dict}')\n",
    "print(f'The frequency of fours in the data set is {a_dict[4]}')"
   ]
  },
  {
   "cell_type": "markdown",
   "metadata": {},
   "source": [
    "## Exercise: Write a function which takes a list of lists and returns a defaultdict with keys=unique list values, values=count of occurrences of each list value\n",
    "\n",
    "Exercise purpose:\n",
    "* List of lists as a new type of argument\n",
    "* Simple application of defaultdict"
   ]
  },
  {
   "cell_type": "code",
   "execution_count": null,
   "metadata": {},
   "outputs": [],
   "source": [
    "# Your function here\n",
    "\n"
   ]
  },
  {
   "cell_type": "code",
   "execution_count": null,
   "metadata": {},
   "outputs": [],
   "source": [
    "# Call the function here\n",
    "\n"
   ]
  },
  {
   "cell_type": "markdown",
   "metadata": {},
   "source": [
    "# Pandas - Dataframe from dictionary or list"
   ]
  },
  {
   "cell_type": "markdown",
   "metadata": {},
   "source": [
    "### DataFrame from dictionary"
   ]
  },
  {
   "cell_type": "code",
   "execution_count": null,
   "metadata": {},
   "outputs": [],
   "source": [
    "# Run this cell\n",
    "\n",
    "# Remember we always import pandas \"as pd\" by convention\n",
    "import pandas as pd\n",
    "\n",
    "data = {'col_1': [3, 2, 1, 0], 'col_2': ['a', 'b', 'c', 'd']}\n",
    "pd.DataFrame.from_dict(data)"
   ]
  },
  {
   "cell_type": "markdown",
   "metadata": {},
   "source": [
    "### DataFrame from list\n",
    "\n",
    "* Include columns parameter to give it a name"
   ]
  },
  {
   "cell_type": "code",
   "execution_count": null,
   "metadata": {},
   "outputs": [],
   "source": [
    "# Run this cell\n",
    "\n",
    "list_fruit = ['apple', 'banana', 'grapes', 'grapefruit']\n",
    "# columns in list since there could be more than one:\n",
    "pd.DataFrame(list_fruit, columns=['fruit'])"
   ]
  },
  {
   "cell_type": "markdown",
   "metadata": {},
   "source": [
    "### DataFrame columns can be obtained and converted to a list for processing"
   ]
  },
  {
   "cell_type": "code",
   "execution_count": null,
   "metadata": {},
   "outputs": [],
   "source": [
    "data = {'col_1': [3, 2, 1, 0], 'col_2': ['a', 'b', 'c', 'd'], 'col_3': ['k', 'w', 'y', 'z']}\n",
    "x = pd.DataFrame.from_dict(data)\n",
    "x_col = x.columns\n",
    "x_col_list = x_col.tolist()\n",
    "print(x_col_list)\n"
   ]
  },
  {
   "cell_type": "markdown",
   "metadata": {},
   "source": [
    "## Exercise: print the column list above in revere order"
   ]
  },
  {
   "cell_type": "code",
   "execution_count": null,
   "metadata": {},
   "outputs": [],
   "source": [
    "# Your code here\n",
    "\n",
    "\n",
    "\n"
   ]
  },
  {
   "cell_type": "markdown",
   "metadata": {},
   "source": [
    "### Pandas - Series can also be created from lists, but typically one would go straight for the DataFrame since it has expanded functionality"
   ]
  },
  {
   "cell_type": "code",
   "execution_count": null,
   "metadata": {},
   "outputs": [],
   "source": [
    "pd.Series(list_fruit)"
   ]
  },
  {
   "cell_type": "code",
   "execution_count": null,
   "metadata": {},
   "outputs": [],
   "source": []
  },
  {
   "cell_type": "code",
   "execution_count": null,
   "metadata": {},
   "outputs": [],
   "source": []
  },
  {
   "cell_type": "code",
   "execution_count": null,
   "metadata": {},
   "outputs": [],
   "source": []
  },
  {
   "cell_type": "code",
   "execution_count": null,
   "metadata": {},
   "outputs": [],
   "source": []
  },
  {
   "cell_type": "markdown",
   "metadata": {},
   "source": [
    "# End of Core Tutorial"
   ]
  },
  {
   "cell_type": "markdown",
   "metadata": {},
   "source": [
    "## List Comprehensions\n",
    "\n",
    "* Python has a fancy way to walk over a list in one line called a \"list comprehension\".  It is an example of \"pythonic\" syntax, and you will run across this and may find it useful.\n",
    "* For the beginner user, your goal might be to know list comprehensions exist even if you cannot reproduce the syntax\n",
    "* For the advanced user, you will use list comprehensions to simplify your code and logic"
   ]
  },
  {
   "cell_type": "code",
   "execution_count": null,
   "metadata": {},
   "outputs": [],
   "source": [
    "# Run this cell\n",
    "\n",
    "# Create a list\n",
    "a = [1, 2, 7, 9]\n",
    "\n",
    "# The list comprehension:\n",
    "[i+2 for i in a]"
   ]
  },
  {
   "cell_type": "markdown",
   "metadata": {},
   "source": [
    "The list comprehension above has a structure where it iterates through the list a (right part) and executes some function (left part)"
   ]
  },
  {
   "cell_type": "markdown",
   "metadata": {},
   "source": [
    "* List comprehnsions can be fancier with if clauses:"
   ]
  },
  {
   "cell_type": "code",
   "execution_count": null,
   "metadata": {},
   "outputs": [],
   "source": [
    "# Run this cell\n",
    "\n",
    "[i+2 for i in a if i < 4]"
   ]
  },
  {
   "cell_type": "markdown",
   "metadata": {},
   "source": [
    "The list comprehension above applies only to some elements in the list based on an if condition (like a where clause in SQL)"
   ]
  },
  {
   "cell_type": "markdown",
   "metadata": {},
   "source": [
    "## Exercise: Write your own list comprehension which squares every element in a list which has value greater than 3"
   ]
  },
  {
   "cell_type": "code",
   "execution_count": null,
   "metadata": {},
   "outputs": [],
   "source": []
  },
  {
   "cell_type": "markdown",
   "metadata": {},
   "source": [
    "## datetime library\n",
    "\n",
    "* datetime library is useful for getting information on time for knowing what time an event occurs"
   ]
  },
  {
   "cell_type": "code",
   "execution_count": null,
   "metadata": {},
   "outputs": [],
   "source": [
    "# Run this cell\n",
    "\n",
    "import datetime\n",
    "\n",
    "# strftime function denotes how to conver the time into a string\n",
    "current_time = datetime.datetime.now().strftime('%H:%M:%S')\n",
    "now_as_string = datetime.datetime.now().strftime('%y/%m/%d %H:%M:%S')\n",
    "\n",
    "print(current_time)\n",
    "print(now_as_string)"
   ]
  },
  {
   "cell_type": "markdown",
   "metadata": {},
   "source": [
    "## Exercise: Get datetime with four digit year and changing format to year-month-day.  Drop the seconds"
   ]
  },
  {
   "cell_type": "code",
   "execution_count": null,
   "metadata": {},
   "outputs": [],
   "source": [
    "# your code here"
   ]
  }
 ],
 "metadata": {
  "kernelspec": {
   "display_name": "Python 3",
   "language": "python",
   "name": "python3"
  },
  "language_info": {
   "codemirror_mode": {
    "name": "ipython",
    "version": 3
   },
   "file_extension": ".py",
   "mimetype": "text/x-python",
   "name": "python",
   "nbconvert_exporter": "python",
   "pygments_lexer": "ipython3",
   "version": "3.7.3"
  }
 },
 "nbformat": 4,
 "nbformat_minor": 2
}
