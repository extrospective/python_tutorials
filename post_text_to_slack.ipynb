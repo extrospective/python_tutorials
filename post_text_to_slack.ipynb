{
 "cells": [
  {
   "cell_type": "markdown",
   "metadata": {},
   "source": [
    "## Logic"
   ]
  },
  {
   "cell_type": "code",
   "execution_count": 20,
   "metadata": {},
   "outputs": [],
   "source": [
    "import requests\n",
    "\n",
    "def post_text_to_slack(message, slack_channel='jimi-mark'):\n",
    "    \"\"\"\n",
    "    posts text to slack channel\n",
    "    \"\"\"\n",
    "    # configuration\n",
    "    #\n",
    "    # get hook codes from https://api.slack.com/apps\n",
    "    # not stored in repository\n",
    "    if slack_channel == 'jimi-mark':\n",
    "        hook = 'tbd'\n",
    "    elif slack_channel == 'python-ds-workshop':\n",
    "        hook = 'tbd'\n",
    "    else:\n",
    "        raise('Did not match hook')\n",
    "    payload = { 'text': message }\n",
    "    requests.post(hook, json=payload)\n",
    "        "
   ]
  },
  {
   "cell_type": "code",
   "execution_count": 22,
   "metadata": {},
   "outputs": [],
   "source": [
    "post_text_to_slack('test posting to slack from python')"
   ]
  },
  {
   "cell_type": "code",
   "execution_count": null,
   "metadata": {},
   "outputs": [],
   "source": []
  }
 ],
 "metadata": {
  "kernelspec": {
   "display_name": "Python 3",
   "language": "python",
   "name": "python3"
  },
  "language_info": {
   "codemirror_mode": {
    "name": "ipython",
    "version": 3
   },
   "file_extension": ".py",
   "mimetype": "text/x-python",
   "name": "python",
   "nbconvert_exporter": "python",
   "pygments_lexer": "ipython3",
   "version": "3.7.3"
  }
 },
 "nbformat": 4,
 "nbformat_minor": 2
}
